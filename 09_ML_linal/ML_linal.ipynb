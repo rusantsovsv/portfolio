{
 "cells": [
  {
   "cell_type": "markdown",
   "metadata": {},
   "source": [
    "# Анализ данных клиентов и их защита"
   ]
  },
  {
   "cell_type": "markdown",
   "metadata": {},
   "source": [
    "Цель проекта: защитить данные клиентов страховой компании «Хоть потоп». \n",
    "\n",
    "Задачи:\n",
    "- разработать такой метод преобразования данных, чтобы по ним было сложно восстановить персональную информацию:\n",
    "- обосновать корректность его работы.\n",
    "\n",
    "Нужно защитить данные, чтобы при преобразовании качество моделей машинного обучения не ухудшилось. Подбирать наилучшую модель не требуется."
   ]
  },
  {
   "cell_type": "markdown",
   "metadata": {},
   "source": [
    "## 1. Загрузка данных"
   ]
  },
  {
   "cell_type": "code",
   "execution_count": 1,
   "metadata": {},
   "outputs": [],
   "source": [
    "import pandas as pd\n",
    "import numpy as np\n",
    "from sklearn.metrics import mean_squared_error\n",
    "from sklearn.linear_model import LinearRegression\n",
    "import matplotlib.pyplot as plt\n",
    "import seaborn as sns\n",
    "sns.set()\n",
    "%matplotlib inline"
   ]
  },
  {
   "cell_type": "markdown",
   "metadata": {},
   "source": [
    "Загружаем данные:"
   ]
  },
  {
   "cell_type": "code",
   "execution_count": 2,
   "metadata": {},
   "outputs": [],
   "source": [
    "data = pd.read_csv('/datasets/insurance.csv')"
   ]
  },
  {
   "cell_type": "code",
   "execution_count": 3,
   "metadata": {},
   "outputs": [
    {
     "data": {
      "text/html": [
       "<div>\n",
       "<style scoped>\n",
       "    .dataframe tbody tr th:only-of-type {\n",
       "        vertical-align: middle;\n",
       "    }\n",
       "\n",
       "    .dataframe tbody tr th {\n",
       "        vertical-align: top;\n",
       "    }\n",
       "\n",
       "    .dataframe thead th {\n",
       "        text-align: right;\n",
       "    }\n",
       "</style>\n",
       "<table border=\"1\" class=\"dataframe\">\n",
       "  <thead>\n",
       "    <tr style=\"text-align: right;\">\n",
       "      <th></th>\n",
       "      <th>Пол</th>\n",
       "      <th>Возраст</th>\n",
       "      <th>Зарплата</th>\n",
       "      <th>Члены семьи</th>\n",
       "      <th>Страховые выплаты</th>\n",
       "    </tr>\n",
       "  </thead>\n",
       "  <tbody>\n",
       "    <tr>\n",
       "      <td>0</td>\n",
       "      <td>1</td>\n",
       "      <td>41.0</td>\n",
       "      <td>49600.0</td>\n",
       "      <td>1</td>\n",
       "      <td>0</td>\n",
       "    </tr>\n",
       "    <tr>\n",
       "      <td>1</td>\n",
       "      <td>0</td>\n",
       "      <td>46.0</td>\n",
       "      <td>38000.0</td>\n",
       "      <td>1</td>\n",
       "      <td>1</td>\n",
       "    </tr>\n",
       "    <tr>\n",
       "      <td>2</td>\n",
       "      <td>0</td>\n",
       "      <td>29.0</td>\n",
       "      <td>21000.0</td>\n",
       "      <td>0</td>\n",
       "      <td>0</td>\n",
       "    </tr>\n",
       "    <tr>\n",
       "      <td>3</td>\n",
       "      <td>0</td>\n",
       "      <td>21.0</td>\n",
       "      <td>41700.0</td>\n",
       "      <td>2</td>\n",
       "      <td>0</td>\n",
       "    </tr>\n",
       "    <tr>\n",
       "      <td>4</td>\n",
       "      <td>1</td>\n",
       "      <td>28.0</td>\n",
       "      <td>26100.0</td>\n",
       "      <td>0</td>\n",
       "      <td>0</td>\n",
       "    </tr>\n",
       "  </tbody>\n",
       "</table>\n",
       "</div>"
      ],
      "text/plain": [
       "   Пол  Возраст  Зарплата  Члены семьи  Страховые выплаты\n",
       "0    1     41.0   49600.0            1                  0\n",
       "1    0     46.0   38000.0            1                  1\n",
       "2    0     29.0   21000.0            0                  0\n",
       "3    0     21.0   41700.0            2                  0\n",
       "4    1     28.0   26100.0            0                  0"
      ]
     },
     "execution_count": 3,
     "metadata": {},
     "output_type": "execute_result"
    }
   ],
   "source": [
    "data.head()"
   ]
  },
  {
   "cell_type": "code",
   "execution_count": 4,
   "metadata": {},
   "outputs": [
    {
     "name": "stdout",
     "output_type": "stream",
     "text": [
      "<class 'pandas.core.frame.DataFrame'>\n",
      "RangeIndex: 5000 entries, 0 to 4999\n",
      "Data columns (total 5 columns):\n",
      "Пол                  5000 non-null int64\n",
      "Возраст              5000 non-null float64\n",
      "Зарплата             5000 non-null float64\n",
      "Члены семьи          5000 non-null int64\n",
      "Страховые выплаты    5000 non-null int64\n",
      "dtypes: float64(2), int64(3)\n",
      "memory usage: 195.4 KB\n"
     ]
    }
   ],
   "source": [
    "data.info()"
   ]
  },
  {
   "cell_type": "markdown",
   "metadata": {},
   "source": [
    "Для решения задачи можно сразу выделить из исходного датасета целевой признак и остальные признаки объектов:"
   ]
  },
  {
   "cell_type": "code",
   "execution_count": 5,
   "metadata": {},
   "outputs": [
    {
     "data": {
      "text/html": [
       "<div>\n",
       "<style scoped>\n",
       "    .dataframe tbody tr th:only-of-type {\n",
       "        vertical-align: middle;\n",
       "    }\n",
       "\n",
       "    .dataframe tbody tr th {\n",
       "        vertical-align: top;\n",
       "    }\n",
       "\n",
       "    .dataframe thead th {\n",
       "        text-align: right;\n",
       "    }\n",
       "</style>\n",
       "<table border=\"1\" class=\"dataframe\">\n",
       "  <thead>\n",
       "    <tr style=\"text-align: right;\">\n",
       "      <th></th>\n",
       "      <th>Пол</th>\n",
       "      <th>Возраст</th>\n",
       "      <th>Зарплата</th>\n",
       "      <th>Члены семьи</th>\n",
       "    </tr>\n",
       "  </thead>\n",
       "  <tbody>\n",
       "    <tr>\n",
       "      <td>0</td>\n",
       "      <td>1</td>\n",
       "      <td>41.0</td>\n",
       "      <td>49600.0</td>\n",
       "      <td>1</td>\n",
       "    </tr>\n",
       "    <tr>\n",
       "      <td>1</td>\n",
       "      <td>0</td>\n",
       "      <td>46.0</td>\n",
       "      <td>38000.0</td>\n",
       "      <td>1</td>\n",
       "    </tr>\n",
       "    <tr>\n",
       "      <td>2</td>\n",
       "      <td>0</td>\n",
       "      <td>29.0</td>\n",
       "      <td>21000.0</td>\n",
       "      <td>0</td>\n",
       "    </tr>\n",
       "    <tr>\n",
       "      <td>3</td>\n",
       "      <td>0</td>\n",
       "      <td>21.0</td>\n",
       "      <td>41700.0</td>\n",
       "      <td>2</td>\n",
       "    </tr>\n",
       "    <tr>\n",
       "      <td>4</td>\n",
       "      <td>1</td>\n",
       "      <td>28.0</td>\n",
       "      <td>26100.0</td>\n",
       "      <td>0</td>\n",
       "    </tr>\n",
       "  </tbody>\n",
       "</table>\n",
       "</div>"
      ],
      "text/plain": [
       "   Пол  Возраст  Зарплата  Члены семьи\n",
       "0    1     41.0   49600.0            1\n",
       "1    0     46.0   38000.0            1\n",
       "2    0     29.0   21000.0            0\n",
       "3    0     21.0   41700.0            2\n",
       "4    1     28.0   26100.0            0"
      ]
     },
     "execution_count": 5,
     "metadata": {},
     "output_type": "execute_result"
    }
   ],
   "source": [
    "X = data.drop('Страховые выплаты', axis=1)\n",
    "X.head()"
   ]
  },
  {
   "cell_type": "code",
   "execution_count": 6,
   "metadata": {},
   "outputs": [
    {
     "data": {
      "text/plain": [
       "0    0\n",
       "1    1\n",
       "2    0\n",
       "3    0\n",
       "4    0\n",
       "Name: Страховые выплаты, dtype: int64"
      ]
     },
     "execution_count": 6,
     "metadata": {},
     "output_type": "execute_result"
    }
   ],
   "source": [
    "y = data['Страховые выплаты']\n",
    "y.head()"
   ]
  },
  {
   "cell_type": "markdown",
   "metadata": {},
   "source": [
    "Данные готовы к дальнейшим преобразованиям."
   ]
  },
  {
   "cell_type": "markdown",
   "metadata": {},
   "source": [
    "## 2. Умножение матриц"
   ]
  },
  {
   "cell_type": "markdown",
   "metadata": {},
   "source": [
    "Для начала обучим модель линейной регрессии и проверим ее качество метрикой RMSE."
   ]
  },
  {
   "cell_type": "code",
   "execution_count": 7,
   "metadata": {},
   "outputs": [],
   "source": [
    "model_0 = LinearRegression()\n",
    "model_0.fit(X, y)\n",
    "predict_0 = model_0.predict(X)"
   ]
  },
  {
   "cell_type": "markdown",
   "metadata": {},
   "source": [
    "Посчитаем RMSE модели:"
   ]
  },
  {
   "cell_type": "code",
   "execution_count": 8,
   "metadata": {},
   "outputs": [
    {
     "data": {
      "text/plain": [
       "0.3512077581960692"
      ]
     },
     "execution_count": 8,
     "metadata": {},
     "output_type": "execute_result"
    }
   ],
   "source": [
    "RMSE_0 = np.sqrt(mean_squared_error(y, predict_0))\n",
    "RMSE_0"
   ]
  },
  {
   "cell_type": "markdown",
   "metadata": {},
   "source": [
    "Закодируем признаки, умножив их на обратимую матрицу. Приведем формулу:"
   ]
  },
  {
   "cell_type": "markdown",
   "metadata": {},
   "source": [
    "$$\n",
    "Xnew = X Z\n",
    "$$"
   ]
  },
  {
   "cell_type": "markdown",
   "metadata": {},
   "source": [
    "Матрица Z для перемножения с матрицей X должна иметь длину, равное ширине X. В свою очередь, матрица должна быть обратимой, поэтому ее размерность должна быть равна (4, 4), заполним матрицу значениями от 0 до 10:"
   ]
  },
  {
   "cell_type": "code",
   "execution_count": 9,
   "metadata": {},
   "outputs": [
    {
     "name": "stdout",
     "output_type": "stream",
     "text": [
      "[[3 9 8 6]\n",
      " [6 4 3 5]\n",
      " [7 2 6 3]\n",
      " [8 5 9 7]]\n"
     ]
    }
   ],
   "source": [
    "Z = np.random.randint(0, 10, (4, 4))\n",
    "print(Z)"
   ]
  },
  {
   "cell_type": "markdown",
   "metadata": {},
   "source": [
    "Умножим эту матрицу на матрицу исходных признаков и посчитаем RMSE полученной модели:"
   ]
  },
  {
   "cell_type": "code",
   "execution_count": 10,
   "metadata": {},
   "outputs": [],
   "source": [
    "X_new = X.values.dot(Z)"
   ]
  },
  {
   "cell_type": "code",
   "execution_count": 11,
   "metadata": {},
   "outputs": [
    {
     "data": {
      "text/plain": [
       "array([[347457.,  99378., 297740., 149018.],\n",
       "       [266284.,  76189., 228147., 114237.],\n",
       "       [147174.,  42116., 126087.,  63145.],\n",
       "       ...,\n",
       "       [237436.,  67890., 203478., 101814.],\n",
       "       [229059.,  65512., 196301.,  98237.],\n",
       "       [284379.,  81326., 243701., 121953.]])"
      ]
     },
     "execution_count": 11,
     "metadata": {},
     "output_type": "execute_result"
    }
   ],
   "source": [
    "X_new"
   ]
  },
  {
   "cell_type": "markdown",
   "metadata": {},
   "source": [
    "Обучим заново модель линейной регрессии и сравним полученные значения RMSE:"
   ]
  },
  {
   "cell_type": "code",
   "execution_count": 12,
   "metadata": {},
   "outputs": [],
   "source": [
    "model_1 = LinearRegression()\n",
    "model_1.fit(X_new, y)\n",
    "predict_1 = model_1.predict(X_new)"
   ]
  },
  {
   "cell_type": "code",
   "execution_count": 13,
   "metadata": {},
   "outputs": [
    {
     "data": {
      "text/plain": [
       "0.35120775819607"
      ]
     },
     "execution_count": 13,
     "metadata": {},
     "output_type": "execute_result"
    }
   ],
   "source": [
    "# посчитаем RMSE модели\n",
    "RMSE_1 = np.sqrt(mean_squared_error(y, predict_1))\n",
    "RMSE_1"
   ]
  },
  {
   "cell_type": "markdown",
   "metadata": {},
   "source": [
    "**Ответ:** Качество модели не изменилось"
   ]
  },
  {
   "cell_type": "markdown",
   "metadata": {},
   "source": [
    "**Обоснование:** Посчитаные метрики до и после преобразования говорят о том, что качество моделей одинаково (RMSE_0 = RMSE_1)"
   ]
  },
  {
   "cell_type": "markdown",
   "metadata": {},
   "source": [
    "Находим оптимальный вектор весов $\\omega'$ для преобразованных признаков X_new:"
   ]
  },
  {
   "cell_type": "code",
   "execution_count": 18,
   "metadata": {},
   "outputs": [
    {
     "data": {
      "text/plain": [
       "array([ 0.01413161,  0.01125349, -0.01370458, -0.01307086])"
      ]
     },
     "execution_count": 18,
     "metadata": {},
     "output_type": "execute_result"
    }
   ],
   "source": [
    "w_new = np.linalg.inv(X_new.T.dot(X_new)).dot(X_new.T).dot(y)\n",
    "w_new"
   ]
  },
  {
   "cell_type": "markdown",
   "metadata": {},
   "source": [
    "Получается что при найденом $\\omega'$ средняя квадратичная ошибка предсказания в задаче линейной регрессии для преобразованных данных будет минимальна."
   ]
  },
  {
   "cell_type": "markdown",
   "metadata": {},
   "source": [
    "Вычислим вектор предсказания модели на преобразованных данных:"
   ]
  },
  {
   "cell_type": "code",
   "execution_count": 19,
   "metadata": {},
   "outputs": [
    {
     "data": {
      "text/plain": [
       "array([ 0.2828728 ,  0.58051362,  0.42948116, ..., -0.02345642,\n",
       "       -0.05255879,  0.0854748 ])"
      ]
     },
     "execution_count": 19,
     "metadata": {},
     "output_type": "execute_result"
    }
   ],
   "source": [
    "a_new = X_new.dot(w_new)\n",
    "a_new"
   ]
  },
  {
   "cell_type": "markdown",
   "metadata": {},
   "source": [
    "Но для проверки рассчитаем a:"
   ]
  },
  {
   "cell_type": "code",
   "execution_count": 20,
   "metadata": {},
   "outputs": [
    {
     "data": {
      "text/plain": [
       "array([-4.43854686e-02,  2.33356224e-02, -1.17739038e-05, -4.55168125e-02])"
      ]
     },
     "execution_count": 20,
     "metadata": {},
     "output_type": "execute_result"
    }
   ],
   "source": [
    "wX = np.linalg.inv(X.T.dot(X)).dot(X.T).dot(y)\n",
    "wX"
   ]
  },
  {
   "cell_type": "code",
   "execution_count": 21,
   "metadata": {},
   "outputs": [
    {
     "data": {
      "text/plain": [
       "array([ 0.28287261,  0.58051347,  0.42948107, ..., -0.02345651,\n",
       "       -0.05255887,  0.08547465])"
      ]
     },
     "execution_count": 21,
     "metadata": {},
     "output_type": "execute_result"
    }
   ],
   "source": [
    "aX = X.dot(wX).values\n",
    "aX"
   ]
  },
  {
   "cell_type": "markdown",
   "metadata": {},
   "source": [
    "Новый вектор предсказаний равен старому:"
   ]
  },
  {
   "cell_type": "markdown",
   "metadata": {},
   "source": [
    "$a'=a$, следовательно, $X'\\omega' = X\\omega$"
   ]
  },
  {
   "cell_type": "markdown",
   "metadata": {},
   "source": [
    "Если продолжить, то"
   ]
  },
  {
   "cell_type": "markdown",
   "metadata": {},
   "source": [
    "$XZ\\omega' = X\\omega$\n",
    "\n",
    "$Z\\omega' = \\omega$\n",
    "\n",
    "$\\omega' = \\omega{(Z^T)^{-1}}$"
   ]
  },
  {
   "cell_type": "markdown",
   "metadata": {},
   "source": [
    "Проверим правильность вывода"
   ]
  },
  {
   "cell_type": "code",
   "execution_count": 22,
   "metadata": {},
   "outputs": [
    {
     "data": {
      "text/plain": [
       "array([ 0.0141316 ,  0.01125349, -0.01370457, -0.01307085])"
      ]
     },
     "execution_count": 22,
     "metadata": {},
     "output_type": "execute_result"
    }
   ],
   "source": [
    "wX @ np.linalg.inv(Z.T)"
   ]
  },
  {
   "cell_type": "markdown",
   "metadata": {},
   "source": [
    "Сравним с w_new"
   ]
  },
  {
   "cell_type": "code",
   "execution_count": 23,
   "metadata": {},
   "outputs": [
    {
     "data": {
      "text/plain": [
       "array([ 0.01413161,  0.01125349, -0.01370458, -0.01307086])"
      ]
     },
     "execution_count": 23,
     "metadata": {},
     "output_type": "execute_result"
    }
   ],
   "source": [
    "w_new"
   ]
  },
  {
   "cell_type": "markdown",
   "metadata": {},
   "source": [
    "**Вывод:**\n",
    "\n",
    "параметры линейной регрессии в исходной задаче и в преобразованной связаны соотношением $\\omega' = \\omega{(Z^T)^{-1}}$ , где Z - обратимая матрица с длинной, равной ширине X."
   ]
  },
  {
   "cell_type": "markdown",
   "metadata": {},
   "source": [
    "## 3. Алгоритм преобразования"
   ]
  },
  {
   "cell_type": "code",
   "execution_count": 24,
   "metadata": {},
   "outputs": [
    {
     "data": {
      "text/plain": [
       "array([[-0.00683371,  0.16173121,  0.25968109, -0.22095672],\n",
       "       [ 0.20501139,  0.14806378,  0.2095672 , -0.37129841],\n",
       "       [ 0.02505695, -0.25968109,  0.04783599,  0.14350797],\n",
       "       [-0.17084282,  0.04328018, -0.50797267,  0.476082  ]])"
      ]
     },
     "execution_count": 24,
     "metadata": {},
     "output_type": "execute_result"
    }
   ],
   "source": [
    "np.linalg.inv(Z)"
   ]
  },
  {
   "cell_type": "markdown",
   "metadata": {},
   "source": [
    "Можно создать функуцию, которая будет делать преобразование данных для дальнейшего анализа:"
   ]
  },
  {
   "cell_type": "code",
   "execution_count": 25,
   "metadata": {},
   "outputs": [],
   "source": [
    "def coding_data(data, target_name):\n",
    "    # выделяем признаки из данных\n",
    "    X = data.drop(target_name, axis=1).values\n",
    "    # выделяем целевой признак\n",
    "    y = data[target_name]\n",
    "    # генерируем ключ преобразования\n",
    "    key = np.random.randint(0, 10, (X.shape[1], X.shape[1]))\n",
    "    # преобразуем данные\n",
    "    X_new = X @ key\n",
    "    # возвращаем преобразованные данные\n",
    "    return X_new, y, key"
   ]
  },
  {
   "cell_type": "markdown",
   "metadata": {},
   "source": [
    "Функция каждый раз будет генерировать новый ключ."
   ]
  },
  {
   "cell_type": "markdown",
   "metadata": {},
   "source": [
    "Создадим функцию для декодирования признаков (если вдруг это понадобится):"
   ]
  },
  {
   "cell_type": "code",
   "execution_count": 26,
   "metadata": {},
   "outputs": [],
   "source": [
    "def decoding_data(cod_data, key):\n",
    "    # умножим закодированную матрицу на обратную ключа и вернем результат\n",
    "    return cod_data.dot(np.linalg.inv(key))"
   ]
  },
  {
   "cell_type": "markdown",
   "metadata": {},
   "source": [
    "Итак, алгоритм преобразования и сравнения моделей следующий (первые 4 пункта выполним с помощью функции coding_data):\n",
    "- 1.1 Извлекаем признаки из исходных данных.\n",
    "- 1.2 Сохраняем в отдельную переменную целевые признаки объектов.\n",
    "- 1.3 Генерируем ключ преобразования данных - это квадратная обратимая матрица с размерностью (количество столбцов, количество столбцов) признаков.\n",
    "- 1.4 Переменожаем признаки на сгенерированную матрицу и получаем преобразованные признаки, целевой признак и ключ.\n",
    "- 2. Создаем модель линейной регрессии и обучаем ее на непреобразованных данных.\n",
    "- 3. Считаем метрику R2 (для линейной регрессии можно просто вызвать model.score(X, y))\n",
    "- 4. Создаем и обучаем модель линейной регрессии на преобразованных данных.\n",
    "- 5. Считаем метрику R2.\n",
    "- 6. Сравниваем метрики."
   ]
  },
  {
   "cell_type": "markdown",
   "metadata": {},
   "source": [
    "**Обоснование**"
   ]
  },
  {
   "cell_type": "markdown",
   "metadata": {},
   "source": [
    "При перемножении матрицы признаков на обратимую матрицу получаем следующий результат:\n"
   ]
  },
  {
   "cell_type": "markdown",
   "metadata": {},
   "source": [
    "$\\begin{pmatrix}\n",
    "X_{11} & X_{12} & X_{13} & X_{14}\\\\\n",
    "X_{21} & X_{22} & X_{23} & X_{24}\\\\\n",
    "... & ... & ... & ...\\\\\n",
    "X_{n1} & X_{n2} & X_{n3} & X_{n4}\\\\\n",
    "\\end{pmatrix} \\begin{pmatrix}\n",
    "Z_{11} & Z_{12} & Z_{13} & Z_{14}\\\\\n",
    "Z_{21} & Z_{22} & Z_{23} & Z_{24}\\\\\n",
    "Z_{31} & Z_{32} & Z_{33} & Z_{34}\\\\\n",
    "Z_{41} & Z_{42} & Z_{43} & Z_{44}\\\\\n",
    "\\end{pmatrix} = \n",
    "$"
   ]
  },
  {
   "cell_type": "markdown",
   "metadata": {},
   "source": [
    "$\\begin{pmatrix}\n",
    "X_{11}Z_{11} + X_{12}Z_{21} + X_{13}Z_{31} + X_{14}Z_{41} & X_{11}Z_{12} + X_{12}Z_{22} + X_{13}Z_{32} + X_{14}Z_{42} & X_{11}Z_{13} + X_{12}Z_{23} + X_{13}Z_{33} + X_{14}Z_{43} & X_{11}Z_{14} + X_{12}Z_{24} + X_{13}Z_{34} + X_{14}Z_{44}\\\\\n",
    "X_{21}Z_{11} + X_{22}Z_{21} + X_{23}Z_{31} + X_{24}Z_{41} & X_{21}Z_{12} + X_{22}Z_{22} + X_{23}Z_{32} + X_{24}Z_{42} & X_{21}Z_{13} + X_{22}Z_{23} + X_{23}Z_{33} + X_{24}Z_{43} & X_{21}Z_{14} + X_{22}Z_{24} + X_{23}Z_{34} + X_{24}Z_{44}\\\\\n",
    "... & ... & ... & ...\\\\\n",
    "X_{n1}Z_{11} + X_{n2}Z_{21} + X_{n3}Z_{31} + X_{n4}Z_{41} & X_{n1}Z_{12} + X_{n2}Z_{22} + X_{n3}Z_{32} + X_{n4}Z_{42} & X_{n1}Z_{13} + X_{n2}Z_{23} + X_{n3}Z_{33} + X_{n4}Z_{43} & X_{n1}Z_{14} + X_{n2}Z_{24} + X_{n3}Z_{34} + X_{n4}Z_{44}\\\\\n",
    "\\end{pmatrix}$"
   ]
  },
  {
   "cell_type": "markdown",
   "metadata": {},
   "source": [
    "Обозначим эти суммы через $X^{'}$ и получим преобразованные признаки в виде:"
   ]
  },
  {
   "cell_type": "markdown",
   "metadata": {},
   "source": [
    "$\\begin{pmatrix}\n",
    "X^{'}_{11} & X^{'}_{12} & X^{'}_{13} & X^{'}_{14}\\\\\n",
    "X^{'}_{21} & X^{'}_{22} & X^{'}_{23} & X^{'}_{24}\\\\\n",
    "... & ... & ... & ...\\\\\n",
    "X^{'}_{n1} & X^{'}_{n2} & X^{'}_{n3} & X^{'}_{n4}\\\\\n",
    "\\end{pmatrix}$"
   ]
  },
  {
   "cell_type": "markdown",
   "metadata": {},
   "source": [
    "Для восстановления значений исходных признаков нужно полученную преобразованну матрицу умножить на обратную матрицу-ключ:"
   ]
  },
  {
   "cell_type": "markdown",
   "metadata": {},
   "source": [
    "$\\begin{pmatrix}\n",
    "X^{'}_{11} & X^{'}_{12} & X^{'}_{13} & X^{'}_{14}\\\\\n",
    "X^{'}_{21} & X^{'}_{22} & X^{'}_{23} & X^{'}_{24}\\\\\n",
    "... & ... & ... & ...\\\\\n",
    "X^{'}_{n1} & X^{'}_{n2} & X^{'}_{n3} & X^{'}_{n4}\\\\\n",
    "\\end{pmatrix} \\begin{pmatrix}\n",
    "Z_{11} & Z_{12} & Z_{13} & Z_{14}\\\\\n",
    "Z_{21} & Z_{22} & Z_{23} & Z_{24}\\\\\n",
    "Z_{31} & Z_{32} & Z_{33} & Z_{34}\\\\\n",
    "Z_{41} & Z_{42} & Z_{43} & Z_{44}\\\\\n",
    "\\end{pmatrix}^{-1} = \\begin{pmatrix}\n",
    "X_{11} & X_{12} & X_{13} & X_{14}\\\\\n",
    "X_{21} & X_{22} & X_{23} & X_{24}\\\\\n",
    "... & ... & ... & ...\\\\\n",
    "X_{n1} & X_{n2} & X_{n3} & X_{n4}\\\\\n",
    "\\end{pmatrix}$"
   ]
  },
  {
   "cell_type": "markdown",
   "metadata": {},
   "source": [
    "## 4. Проверка алгоритма"
   ]
  },
  {
   "cell_type": "markdown",
   "metadata": {},
   "source": [
    "Воспользуемся выше описанным алгоритмом."
   ]
  },
  {
   "cell_type": "markdown",
   "metadata": {},
   "source": [
    "#### Преобразование исходных данных и получение признаков"
   ]
  },
  {
   "cell_type": "code",
   "execution_count": 27,
   "metadata": {},
   "outputs": [],
   "source": [
    "X_new, y_new, key = coding_data(data, 'Страховые выплаты')"
   ]
  },
  {
   "cell_type": "markdown",
   "metadata": {},
   "source": [
    "#### Создаем модель линейной регрессии и обучаем ее на непреобразованных данных."
   ]
  },
  {
   "cell_type": "code",
   "execution_count": 28,
   "metadata": {},
   "outputs": [],
   "source": [
    "model_no_coding = LinearRegression().fit(X, y)"
   ]
  },
  {
   "cell_type": "markdown",
   "metadata": {},
   "source": [
    "#### Считаем метрику R2"
   ]
  },
  {
   "cell_type": "code",
   "execution_count": 29,
   "metadata": {},
   "outputs": [
    {
     "name": "stdout",
     "output_type": "stream",
     "text": [
      "Качество модели линейной регрессии на непреобразованных данных по метрике R2 равно 0.42494550286668\n"
     ]
    }
   ],
   "source": [
    "R2_no_coding = model_no_coding.score(X, y)\n",
    "print(f'Качество модели линейной регрессии на непреобразованных данных по метрике R2 равно {R2_no_coding}')"
   ]
  },
  {
   "cell_type": "markdown",
   "metadata": {},
   "source": [
    "#### Создаем и обучаем модель линейной регрессии на преобразованных данных."
   ]
  },
  {
   "cell_type": "code",
   "execution_count": 30,
   "metadata": {},
   "outputs": [],
   "source": [
    "model_coding = LinearRegression().fit(X_new, y_new)"
   ]
  },
  {
   "cell_type": "markdown",
   "metadata": {},
   "source": [
    "#### Считаем метрику R2"
   ]
  },
  {
   "cell_type": "code",
   "execution_count": 31,
   "metadata": {},
   "outputs": [
    {
     "name": "stdout",
     "output_type": "stream",
     "text": [
      "Качество модели линейной регрессии на непреобразованных данных по метрике R2 равно 0.42494550286667765\n"
     ]
    }
   ],
   "source": [
    "R2_coding = model_coding.score(X_new, y_new)\n",
    "print(f'Качество модели линейной регрессии на непреобразованных данных по метрике R2 равно {R2_coding}')"
   ]
  },
  {
   "cell_type": "markdown",
   "metadata": {},
   "source": [
    "### Вывод"
   ]
  },
  {
   "cell_type": "markdown",
   "metadata": {},
   "source": [
    "Как видно из расчетов метрик, качество моделей отличается очень незначительно, метрики практически равны. \n",
    "\n",
    "Это говорит о том, что разработанный метод преобразования данных позволяет скрыть персональную информацю, не ухудшая при этом качество предсказаний линейной регрессии.\n",
    "\n",
    "При этом данные пользователей можно легко восстановить по сохраненному ключу."
   ]
  }
 ],
 "metadata": {
  "kernelspec": {
   "display_name": "Python 3",
   "language": "python",
   "name": "python3"
  },
  "language_info": {
   "codemirror_mode": {
    "name": "ipython",
    "version": 3
   },
   "file_extension": ".py",
   "mimetype": "text/x-python",
   "name": "python",
   "nbconvert_exporter": "python",
   "pygments_lexer": "ipython3",
   "version": "3.7.4"
  }
 },
 "nbformat": 4,
 "nbformat_minor": 2
}
