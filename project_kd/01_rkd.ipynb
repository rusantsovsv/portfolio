{
 "cells": [
  {
   "cell_type": "code",
   "execution_count": 1,
   "metadata": {},
   "outputs": [],
   "source": [
    "import pandas as pd\n",
    "import numpy as np\n",
    "import matplotlib.pyplot as plt\n",
    "import os"
   ]
  },
  {
   "cell_type": "markdown",
   "metadata": {},
   "source": [
    "# 1. Предварительная очистка данных"
   ]
  },
  {
   "cell_type": "markdown",
   "metadata": {},
   "source": [
    "## 1.1 Загрузка таблицы и удаление не нужных столбцов"
   ]
  },
  {
   "cell_type": "markdown",
   "metadata": {},
   "source": [
    "##### Перед началом всех манипуляций заполнить столбец \"Готовность\" 0, если красная ячейка, 1 если зеленая "
   ]
  },
  {
   "cell_type": "markdown",
   "metadata": {},
   "source": [
    "Указываем путь к файлу csv или excel"
   ]
  },
  {
   "cell_type": "markdown",
   "metadata": {},
   "source": [
    "Для автоматического поиска последнего файла в директории CSV (или Excell)"
   ]
  },
  {
   "cell_type": "code",
   "execution_count": 2,
   "metadata": {},
   "outputs": [
    {
     "data": {
      "text/plain": [
       "'Excel\\\\15.input_14.01.2020.xlsx'"
      ]
     },
     "execution_count": 2,
     "metadata": {},
     "output_type": "execute_result"
    }
   ],
   "source": [
    "pathdir = 'Excel'\n",
    "listfile = os.listdir(pathdir)\n",
    "path = pathdir + '\\\\' + listfile[-1]\n",
    "path"
   ]
  },
  {
   "cell_type": "markdown",
   "metadata": {},
   "source": [
    "Можно указать вручную"
   ]
  },
  {
   "cell_type": "code",
   "execution_count": 3,
   "metadata": {},
   "outputs": [
    {
     "data": {
      "text/plain": [
       "(9535, 13)"
      ]
     },
     "execution_count": 3,
     "metadata": {},
     "output_type": "execute_result"
    }
   ],
   "source": [
    "# path =\n",
    "data = pd.read_excel(path, encoding='cp1251') # для csv - read_csv\n",
    "data.shape"
   ]
  },
  {
   "cell_type": "markdown",
   "metadata": {},
   "source": [
    "Сохраним дату документа"
   ]
  },
  {
   "cell_type": "code",
   "execution_count": 4,
   "metadata": {},
   "outputs": [
    {
     "data": {
      "text/plain": [
       "'14.01.2020'"
      ]
     },
     "execution_count": 4,
     "metadata": {},
     "output_type": "execute_result"
    }
   ],
   "source": [
    "date = path[-15:-5]\n",
    "date"
   ]
  },
  {
   "cell_type": "markdown",
   "metadata": {},
   "source": [
    "Выбрать только требуемые столбцы"
   ]
  },
  {
   "cell_type": "code",
   "execution_count": 5,
   "metadata": {},
   "outputs": [],
   "source": [
    "data = data[['Обозначение документа', 'Наименование документа',\n",
    "            'Кол-во листов А4 ', 'Готовность документа', 'Подразделение',\n",
    "            'Разработчик']]"
   ]
  },
  {
   "cell_type": "code",
   "execution_count": 6,
   "metadata": {},
   "outputs": [
    {
     "data": {
      "text/plain": [
       "(9535, 6)"
      ]
     },
     "execution_count": 6,
     "metadata": {},
     "output_type": "execute_result"
    }
   ],
   "source": [
    "data.shape # размерность таблицы (количество строк, количество столбцов)"
   ]
  },
  {
   "cell_type": "code",
   "execution_count": 7,
   "metadata": {},
   "outputs": [
    {
     "data": {
      "text/html": [
       "<div>\n",
       "<style scoped>\n",
       "    .dataframe tbody tr th:only-of-type {\n",
       "        vertical-align: middle;\n",
       "    }\n",
       "\n",
       "    .dataframe tbody tr th {\n",
       "        vertical-align: top;\n",
       "    }\n",
       "\n",
       "    .dataframe thead th {\n",
       "        text-align: right;\n",
       "    }\n",
       "</style>\n",
       "<table border=\"1\" class=\"dataframe\">\n",
       "  <thead>\n",
       "    <tr style=\"text-align: right;\">\n",
       "      <th></th>\n",
       "      <th>Обозначение документа</th>\n",
       "      <th>Наименование документа</th>\n",
       "      <th>Кол-во листов А4</th>\n",
       "      <th>Готовность документа</th>\n",
       "      <th>Подразделение</th>\n",
       "      <th>Разработчик</th>\n",
       "    </tr>\n",
       "  </thead>\n",
       "  <tbody>\n",
       "    <tr>\n",
       "      <td>0</td>\n",
       "      <td>NaN</td>\n",
       "      <td>Документация на АКС Р-779-16</td>\n",
       "      <td>NaN</td>\n",
       "      <td>NaN</td>\n",
       "      <td>NaN</td>\n",
       "      <td>NaN</td>\n",
       "    </tr>\n",
       "    <tr>\n",
       "      <td>1</td>\n",
       "      <td>ИКГТ.461273.052ВЭ</td>\n",
       "      <td>АКС Р-779-16. Ведомость эксплуатационных докум...</td>\n",
       "      <td>3.0</td>\n",
       "      <td>0.0</td>\n",
       "      <td>НТЦ ИКС НК</td>\n",
       "      <td>Петухова</td>\n",
       "    </tr>\n",
       "    <tr>\n",
       "      <td>2</td>\n",
       "      <td>ИКГТ.461273.052ВЭ-ЛУ</td>\n",
       "      <td>АКС Р-779-16. Ведомость эксплуатационных докум...</td>\n",
       "      <td>2.0</td>\n",
       "      <td>0.0</td>\n",
       "      <td>НТЦ ИКС НК</td>\n",
       "      <td>Петухова</td>\n",
       "    </tr>\n",
       "    <tr>\n",
       "      <td>3</td>\n",
       "      <td>NaN</td>\n",
       "      <td>Документация общая</td>\n",
       "      <td>2652.0</td>\n",
       "      <td>NaN</td>\n",
       "      <td>NaN</td>\n",
       "      <td>NaN</td>\n",
       "    </tr>\n",
       "    <tr>\n",
       "      <td>4</td>\n",
       "      <td>ИКГТ.461273.052</td>\n",
       "      <td>АКС Р-779-16. Спецификация</td>\n",
       "      <td>182.0</td>\n",
       "      <td>0.0</td>\n",
       "      <td>ПКО</td>\n",
       "      <td>NaN</td>\n",
       "    </tr>\n",
       "    <tr>\n",
       "      <td>5</td>\n",
       "      <td>ИКГТ.461273.052Э4</td>\n",
       "      <td>АКС Р-779-16. Схема электрическая соединений</td>\n",
       "      <td>182.0</td>\n",
       "      <td>0.0</td>\n",
       "      <td>НТЦ ИКС НК</td>\n",
       "      <td>Петухова</td>\n",
       "    </tr>\n",
       "    <tr>\n",
       "      <td>6</td>\n",
       "      <td>ИКГТ.461273.052ТЭ4, ИКГТ.461273.052ТЭ41</td>\n",
       "      <td>АКС Р-779-16. Таблица соединений</td>\n",
       "      <td>1042.0</td>\n",
       "      <td>0.0</td>\n",
       "      <td>НТЦ ИКС НК</td>\n",
       "      <td>Петухова</td>\n",
       "    </tr>\n",
       "    <tr>\n",
       "      <td>7</td>\n",
       "      <td>ИКГТ.461273.052ПЭ4</td>\n",
       "      <td>АКС Р-779-16. Перечень элементов</td>\n",
       "      <td>39.0</td>\n",
       "      <td>0.0</td>\n",
       "      <td>НТЦ ИКС НК</td>\n",
       "      <td>Петухова</td>\n",
       "    </tr>\n",
       "    <tr>\n",
       "      <td>8</td>\n",
       "      <td>ИКГТ.461273.052РЭ</td>\n",
       "      <td>АКС Р-779-16. Руководство по эксплуатации</td>\n",
       "      <td>NaN</td>\n",
       "      <td>0.0</td>\n",
       "      <td>НТЦ ИКС НК</td>\n",
       "      <td>Русанцов</td>\n",
       "    </tr>\n",
       "    <tr>\n",
       "      <td>9</td>\n",
       "      <td>ИКГТ.461273.052РЭ-ЛУ</td>\n",
       "      <td>АКС Р-779-16. Руководство по эксплуатации. Лис...</td>\n",
       "      <td>NaN</td>\n",
       "      <td>0.0</td>\n",
       "      <td>НТЦ ИКС НК</td>\n",
       "      <td>Русанцов</td>\n",
       "    </tr>\n",
       "  </tbody>\n",
       "</table>\n",
       "</div>"
      ],
      "text/plain": [
       "                     Обозначение документа  \\\n",
       "0                                      NaN   \n",
       "1                        ИКГТ.461273.052ВЭ   \n",
       "2                     ИКГТ.461273.052ВЭ-ЛУ   \n",
       "3                                      NaN   \n",
       "4                          ИКГТ.461273.052   \n",
       "5                        ИКГТ.461273.052Э4   \n",
       "6  ИКГТ.461273.052ТЭ4, ИКГТ.461273.052ТЭ41   \n",
       "7                       ИКГТ.461273.052ПЭ4   \n",
       "8                        ИКГТ.461273.052РЭ   \n",
       "9                     ИКГТ.461273.052РЭ-ЛУ   \n",
       "\n",
       "                              Наименование документа  Кол-во листов А4   \\\n",
       "0                       Документация на АКС Р-779-16                NaN   \n",
       "1  АКС Р-779-16. Ведомость эксплуатационных докум...                3.0   \n",
       "2  АКС Р-779-16. Ведомость эксплуатационных докум...                2.0   \n",
       "3                                 Документация общая             2652.0   \n",
       "4                         АКС Р-779-16. Спецификация              182.0   \n",
       "5       АКС Р-779-16. Схема электрическая соединений              182.0   \n",
       "6                   АКС Р-779-16. Таблица соединений             1042.0   \n",
       "7                   АКС Р-779-16. Перечень элементов               39.0   \n",
       "8          АКС Р-779-16. Руководство по эксплуатации                NaN   \n",
       "9  АКС Р-779-16. Руководство по эксплуатации. Лис...                NaN   \n",
       "\n",
       "   Готовность документа Подразделение Разработчик  \n",
       "0                   NaN           NaN         NaN  \n",
       "1                   0.0    НТЦ ИКС НК    Петухова  \n",
       "2                   0.0    НТЦ ИКС НК    Петухова  \n",
       "3                   NaN           NaN         NaN  \n",
       "4                   0.0           ПКО         NaN  \n",
       "5                   0.0    НТЦ ИКС НК    Петухова  \n",
       "6                   0.0    НТЦ ИКС НК    Петухова  \n",
       "7                   0.0    НТЦ ИКС НК    Петухова  \n",
       "8                   0.0    НТЦ ИКС НК    Русанцов  \n",
       "9                   0.0    НТЦ ИКС НК    Русанцов  "
      ]
     },
     "execution_count": 7,
     "metadata": {},
     "output_type": "execute_result"
    }
   ],
   "source": [
    "data[0:10] # первые 10 строк"
   ]
  },
  {
   "cell_type": "markdown",
   "metadata": {},
   "source": [
    "Для сохранения таблицы в csv"
   ]
  },
  {
   "cell_type": "code",
   "execution_count": 8,
   "metadata": {},
   "outputs": [],
   "source": [
    "# data.to_csv('18.09.2019_rkd.csv', encoding='cp1251')"
   ]
  },
  {
   "cell_type": "markdown",
   "metadata": {},
   "source": [
    "## 1.2 Удаляем строки без обозначения документа, подразделения и количества листов"
   ]
  },
  {
   "cell_type": "code",
   "execution_count": 9,
   "metadata": {},
   "outputs": [
    {
     "data": {
      "text/html": [
       "<div>\n",
       "<style scoped>\n",
       "    .dataframe tbody tr th:only-of-type {\n",
       "        vertical-align: middle;\n",
       "    }\n",
       "\n",
       "    .dataframe tbody tr th {\n",
       "        vertical-align: top;\n",
       "    }\n",
       "\n",
       "    .dataframe thead th {\n",
       "        text-align: right;\n",
       "    }\n",
       "</style>\n",
       "<table border=\"1\" class=\"dataframe\">\n",
       "  <thead>\n",
       "    <tr style=\"text-align: right;\">\n",
       "      <th></th>\n",
       "      <th>Обозначение документа</th>\n",
       "      <th>Наименование документа</th>\n",
       "      <th>Кол-во листов А4</th>\n",
       "      <th>Готовность документа</th>\n",
       "      <th>Подразделение</th>\n",
       "      <th>Разработчик</th>\n",
       "    </tr>\n",
       "  </thead>\n",
       "  <tbody>\n",
       "    <tr>\n",
       "      <td>9497</td>\n",
       "      <td>ИКГТ.755223.002</td>\n",
       "      <td>Уголок.Чертеж детали</td>\n",
       "      <td>NaN</td>\n",
       "      <td>1.0</td>\n",
       "      <td>ПКО</td>\n",
       "      <td>NaN</td>\n",
       "    </tr>\n",
       "    <tr>\n",
       "      <td>9498</td>\n",
       "      <td>ИКГТ.758491.020</td>\n",
       "      <td>Втулка.Чертеж детали</td>\n",
       "      <td>NaN</td>\n",
       "      <td>1.0</td>\n",
       "      <td>ПКО</td>\n",
       "      <td>NaN</td>\n",
       "    </tr>\n",
       "    <tr>\n",
       "      <td>9499</td>\n",
       "      <td>ИКГТ.753161.003</td>\n",
       "      <td>Втулка.Чертеж детали</td>\n",
       "      <td>NaN</td>\n",
       "      <td>1.0</td>\n",
       "      <td>ПКО</td>\n",
       "      <td>NaN</td>\n",
       "    </tr>\n",
       "    <tr>\n",
       "      <td>9500</td>\n",
       "      <td>ИКГТ.713312.001</td>\n",
       "      <td>Штемпель.Чертеж детали</td>\n",
       "      <td>NaN</td>\n",
       "      <td>1.0</td>\n",
       "      <td>ПКО</td>\n",
       "      <td>NaN</td>\n",
       "    </tr>\n",
       "    <tr>\n",
       "      <td>9501</td>\n",
       "      <td>ИКГТ.745351.002</td>\n",
       "      <td>Планка. Чертеж детали</td>\n",
       "      <td>NaN</td>\n",
       "      <td>1.0</td>\n",
       "      <td>ПКО</td>\n",
       "      <td>NaN</td>\n",
       "    </tr>\n",
       "    <tr>\n",
       "      <td>9502</td>\n",
       "      <td>ИКГТ.741131.023</td>\n",
       "      <td>Планка. Чертеж детали</td>\n",
       "      <td>NaN</td>\n",
       "      <td>1.0</td>\n",
       "      <td>ПКО</td>\n",
       "      <td>NaN</td>\n",
       "    </tr>\n",
       "    <tr>\n",
       "      <td>9503</td>\n",
       "      <td>ИКГТ.713161.002</td>\n",
       "      <td>Втулка.Чертеж детали</td>\n",
       "      <td>NaN</td>\n",
       "      <td>1.0</td>\n",
       "      <td>ПКО</td>\n",
       "      <td>NaN</td>\n",
       "    </tr>\n",
       "    <tr>\n",
       "      <td>9504</td>\n",
       "      <td>ИКГТ.741532.015</td>\n",
       "      <td>Подкладка.Чертеж детали</td>\n",
       "      <td>NaN</td>\n",
       "      <td>1.0</td>\n",
       "      <td>ПКО</td>\n",
       "      <td>NaN</td>\n",
       "    </tr>\n",
       "    <tr>\n",
       "      <td>9505</td>\n",
       "      <td>ИКГТ.741128.179</td>\n",
       "      <td>Рама. Чертеж детали</td>\n",
       "      <td>NaN</td>\n",
       "      <td>1.0</td>\n",
       "      <td>ПКО</td>\n",
       "      <td>NaN</td>\n",
       "    </tr>\n",
       "    <tr>\n",
       "      <td>9506</td>\n",
       "      <td>ИКГТ.741124.830</td>\n",
       "      <td>Стекло. Чертеж детали</td>\n",
       "      <td>NaN</td>\n",
       "      <td>1.0</td>\n",
       "      <td>ПКО</td>\n",
       "      <td>NaN</td>\n",
       "    </tr>\n",
       "    <tr>\n",
       "      <td>9507</td>\n",
       "      <td>ИКГТ.745428.004</td>\n",
       "      <td>Петля. Чертеж детали</td>\n",
       "      <td>NaN</td>\n",
       "      <td>1.0</td>\n",
       "      <td>ПКО</td>\n",
       "      <td>NaN</td>\n",
       "    </tr>\n",
       "    <tr>\n",
       "      <td>9508</td>\n",
       "      <td>ИКГТ.745512.113</td>\n",
       "      <td>Панель. Чертеж детали</td>\n",
       "      <td>NaN</td>\n",
       "      <td>1.0</td>\n",
       "      <td>ПКО</td>\n",
       "      <td>NaN</td>\n",
       "    </tr>\n",
       "    <tr>\n",
       "      <td>9513</td>\n",
       "      <td>ИКГТ.30136 12</td>\n",
       "      <td>Комплекс \"Агенты управления\". Текст программы</td>\n",
       "      <td>23410.0</td>\n",
       "      <td>NaN</td>\n",
       "      <td>НТЦ ИКС НК</td>\n",
       "      <td>NaN</td>\n",
       "    </tr>\n",
       "    <tr>\n",
       "      <td>9514</td>\n",
       "      <td>ИКГТ.50207 12</td>\n",
       "      <td>Компонент «Сервер конфигураций». Текст программы</td>\n",
       "      <td>8780.0</td>\n",
       "      <td>NaN</td>\n",
       "      <td>НТЦ ИКС НК</td>\n",
       "      <td>NaN</td>\n",
       "    </tr>\n",
       "    <tr>\n",
       "      <td>9515</td>\n",
       "      <td>ИКГТ.50208 12</td>\n",
       "      <td>Компонент «Сервер управления». Текст программы</td>\n",
       "      <td>4050.0</td>\n",
       "      <td>NaN</td>\n",
       "      <td>НТЦ ИКС НК</td>\n",
       "      <td>NaN</td>\n",
       "    </tr>\n",
       "    <tr>\n",
       "      <td>9516</td>\n",
       "      <td>ИКГТ.50210 12</td>\n",
       "      <td>Компонент «Радиоданные». Текст программы</td>\n",
       "      <td>3410.0</td>\n",
       "      <td>NaN</td>\n",
       "      <td>НТЦ ИКС НК</td>\n",
       "      <td>NaN</td>\n",
       "    </tr>\n",
       "    <tr>\n",
       "      <td>9517</td>\n",
       "      <td>ИГКТ.50211 12</td>\n",
       "      <td>Компонент «Сервер безопасности и авторизации»....</td>\n",
       "      <td>3720.0</td>\n",
       "      <td>NaN</td>\n",
       "      <td>НТЦ ИКС НК</td>\n",
       "      <td>NaN</td>\n",
       "    </tr>\n",
       "    <tr>\n",
       "      <td>9518</td>\n",
       "      <td>ИГКТ.50212 12</td>\n",
       "      <td>Компонент «Терминал управления». Текст программы</td>\n",
       "      <td>17865.0</td>\n",
       "      <td>NaN</td>\n",
       "      <td>НТЦ ИКС НК</td>\n",
       "      <td>NaN</td>\n",
       "    </tr>\n",
       "    <tr>\n",
       "      <td>9519</td>\n",
       "      <td>ИГКТ.50213 12</td>\n",
       "      <td>Компонент «Терминал радиоданных». Текст программы</td>\n",
       "      <td>11520.0</td>\n",
       "      <td>NaN</td>\n",
       "      <td>НТЦ ИКС НК</td>\n",
       "      <td>NaN</td>\n",
       "    </tr>\n",
       "    <tr>\n",
       "      <td>9520</td>\n",
       "      <td>ИГКТ.50214 12</td>\n",
       "      <td>Компонент «Терминал администратора безопасност...</td>\n",
       "      <td>14010.0</td>\n",
       "      <td>NaN</td>\n",
       "      <td>НТЦ ИКС НК</td>\n",
       "      <td>NaN</td>\n",
       "    </tr>\n",
       "  </tbody>\n",
       "</table>\n",
       "</div>"
      ],
      "text/plain": [
       "     Обозначение документа                             Наименование документа  \\\n",
       "9497       ИКГТ.755223.002                               Уголок.Чертеж детали   \n",
       "9498       ИКГТ.758491.020                               Втулка.Чертеж детали   \n",
       "9499       ИКГТ.753161.003                               Втулка.Чертеж детали   \n",
       "9500       ИКГТ.713312.001                             Штемпель.Чертеж детали   \n",
       "9501       ИКГТ.745351.002                              Планка. Чертеж детали   \n",
       "9502       ИКГТ.741131.023                              Планка. Чертеж детали   \n",
       "9503       ИКГТ.713161.002                               Втулка.Чертеж детали   \n",
       "9504       ИКГТ.741532.015                            Подкладка.Чертеж детали   \n",
       "9505       ИКГТ.741128.179                                Рама. Чертеж детали   \n",
       "9506       ИКГТ.741124.830                              Стекло. Чертеж детали   \n",
       "9507       ИКГТ.745428.004                               Петля. Чертеж детали   \n",
       "9508       ИКГТ.745512.113                              Панель. Чертеж детали   \n",
       "9513         ИКГТ.30136 12      Комплекс \"Агенты управления\". Текст программы   \n",
       "9514         ИКГТ.50207 12   Компонент «Сервер конфигураций». Текст программы   \n",
       "9515         ИКГТ.50208 12     Компонент «Сервер управления». Текст программы   \n",
       "9516         ИКГТ.50210 12           Компонент «Радиоданные». Текст программы   \n",
       "9517         ИГКТ.50211 12  Компонент «Сервер безопасности и авторизации»....   \n",
       "9518         ИГКТ.50212 12   Компонент «Терминал управления». Текст программы   \n",
       "9519         ИГКТ.50213 12  Компонент «Терминал радиоданных». Текст программы   \n",
       "9520         ИГКТ.50214 12  Компонент «Терминал администратора безопасност...   \n",
       "\n",
       "      Кол-во листов А4   Готовность документа Подразделение Разработчик  \n",
       "9497                NaN                   1.0           ПКО         NaN  \n",
       "9498                NaN                   1.0           ПКО         NaN  \n",
       "9499                NaN                   1.0           ПКО         NaN  \n",
       "9500                NaN                   1.0           ПКО         NaN  \n",
       "9501                NaN                   1.0           ПКО         NaN  \n",
       "9502                NaN                   1.0           ПКО         NaN  \n",
       "9503                NaN                   1.0           ПКО         NaN  \n",
       "9504                NaN                   1.0           ПКО         NaN  \n",
       "9505                NaN                   1.0           ПКО         NaN  \n",
       "9506                NaN                   1.0           ПКО         NaN  \n",
       "9507                NaN                   1.0           ПКО         NaN  \n",
       "9508                NaN                   1.0           ПКО         NaN  \n",
       "9513            23410.0                   NaN    НТЦ ИКС НК         NaN  \n",
       "9514             8780.0                   NaN    НТЦ ИКС НК         NaN  \n",
       "9515             4050.0                   NaN    НТЦ ИКС НК         NaN  \n",
       "9516             3410.0                   NaN    НТЦ ИКС НК         NaN  \n",
       "9517             3720.0                   NaN    НТЦ ИКС НК         NaN  \n",
       "9518            17865.0                   NaN    НТЦ ИКС НК         NaN  \n",
       "9519            11520.0                   NaN    НТЦ ИКС НК         NaN  \n",
       "9520            14010.0                   NaN    НТЦ ИКС НК         NaN  "
      ]
     },
     "execution_count": 9,
     "metadata": {},
     "output_type": "execute_result"
    }
   ],
   "source": [
    "data = data[~(data['Обозначение документа'].isnull() | (data['Подразделение'].isnull() & data['Кол-во листов А4 '].isnull()))]\n",
    "data.tail(20) # отобразить последние 20 строк в таблице"
   ]
  },
  {
   "cell_type": "code",
   "execution_count": 10,
   "metadata": {},
   "outputs": [
    {
     "data": {
      "text/plain": [
       "(8584, 6)"
      ]
     },
     "execution_count": 10,
     "metadata": {},
     "output_type": "execute_result"
    }
   ],
   "source": [
    "data.shape"
   ]
  },
  {
   "cell_type": "markdown",
   "metadata": {},
   "source": [
    "## 1.3 Исправляем неправильно написанные фамилии и подразделения"
   ]
  },
  {
   "cell_type": "markdown",
   "metadata": {},
   "source": [
    "### 1.3.1 Исправление неправильных фамилий"
   ]
  },
  {
   "cell_type": "markdown",
   "metadata": {},
   "source": [
    "Сделаем выборку всех уникальных значений в колонке 'Разработчик'"
   ]
  },
  {
   "cell_type": "code",
   "execution_count": 11,
   "metadata": {},
   "outputs": [
    {
     "data": {
      "text/plain": [
       "1          Петухова\n",
       "4               NaN\n",
       "8          Русанцов\n",
       "20           Бычков\n",
       "21          Паскина\n",
       "27       Храковский\n",
       "33      Варфоломеев\n",
       "246          Лившиц\n",
       "2059          Попик\n",
       "2091       Матюшков\n",
       "3388      Русанцов \n",
       "3741         Попик \n",
       "6391     Тропников \n",
       "9356      Петухова \n",
       "Name: Разработчик, dtype: object"
      ]
     },
     "execution_count": 11,
     "metadata": {},
     "output_type": "execute_result"
    }
   ],
   "source": [
    "data['Разработчик'].drop_duplicates()"
   ]
  },
  {
   "cell_type": "markdown",
   "metadata": {},
   "source": [
    "Из вывода видно, что есть отсутствующие значения и не единообразное заполнение ячеек."
   ]
  },
  {
   "cell_type": "markdown",
   "metadata": {},
   "source": [
    "Заменим все NaN значение на \"Не указан\""
   ]
  },
  {
   "cell_type": "code",
   "execution_count": 12,
   "metadata": {},
   "outputs": [],
   "source": [
    "data.loc[data['Разработчик'].isnull(), 'Разработчик'] = 'Не указан'"
   ]
  },
  {
   "cell_type": "code",
   "execution_count": 13,
   "metadata": {},
   "outputs": [
    {
     "data": {
      "text/plain": [
       "1          Петухова\n",
       "4         Не указан\n",
       "8          Русанцов\n",
       "20           Бычков\n",
       "21          Паскина\n",
       "27       Храковский\n",
       "33      Варфоломеев\n",
       "246          Лившиц\n",
       "2059          Попик\n",
       "2091       Матюшков\n",
       "3388      Русанцов \n",
       "3741         Попик \n",
       "6391     Тропников \n",
       "9356      Петухова \n",
       "Name: Разработчик, dtype: object"
      ]
     },
     "execution_count": 13,
     "metadata": {},
     "output_type": "execute_result"
    }
   ],
   "source": [
    "# Проверка\n",
    "data['Разработчик'].drop_duplicates()"
   ]
  },
  {
   "cell_type": "markdown",
   "metadata": {},
   "source": [
    "Аналогичным образом приведем написание фамилий к единообразию"
   ]
  },
  {
   "cell_type": "code",
   "execution_count": 14,
   "metadata": {
    "scrolled": true
   },
   "outputs": [
    {
     "name": "stderr",
     "output_type": "stream",
     "text": [
      "c:\\users\\rusancovs\\appdata\\local\\programs\\python\\python37\\lib\\site-packages\\pandas\\core\\strings.py:1843: UserWarning: This pattern has match groups. To actually get the groups, use str.extract.\n",
      "  return func(self, *args, **kwargs)\n"
     ]
    },
    {
     "data": {
      "text/plain": [
       "1          Петухова\n",
       "4         Не указан\n",
       "8          Русанцов\n",
       "20           Бычков\n",
       "21          Паскина\n",
       "27       Храковский\n",
       "33      Варфоломеев\n",
       "246          Лившиц\n",
       "2059          Попик\n",
       "2091       Матюшков\n",
       "6391      Тропников\n",
       "Name: Разработчик, dtype: object"
      ]
     },
     "execution_count": 14,
     "metadata": {},
     "output_type": "execute_result"
    }
   ],
   "source": [
    "# Исправим сразу для всех\n",
    "ntc = ['Русанцов', 'Паскина', 'Молчанова', 'Лившиц', 'Петухова', \n",
    "       'Тропников', 'Попик', 'Варфоломеев', 'Храковский', 'Матюшков', \n",
    "       'Бычков', 'Зозуля', 'Полковников', 'Кавинский', 'Щепетин']\n",
    "for i in ntc:\n",
    "    res = '(' + i[:4] + ')'+'+'\n",
    "    data.loc[(data['Разработчик'].str.contains(res)), 'Разработчик'] = i\n",
    "\n",
    "# проверка\n",
    "data['Разработчик'].drop_duplicates()"
   ]
  },
  {
   "cell_type": "code",
   "execution_count": 15,
   "metadata": {},
   "outputs": [
    {
     "data": {
      "text/html": [
       "<div>\n",
       "<style scoped>\n",
       "    .dataframe tbody tr th:only-of-type {\n",
       "        vertical-align: middle;\n",
       "    }\n",
       "\n",
       "    .dataframe tbody tr th {\n",
       "        vertical-align: top;\n",
       "    }\n",
       "\n",
       "    .dataframe thead th {\n",
       "        text-align: right;\n",
       "    }\n",
       "</style>\n",
       "<table border=\"1\" class=\"dataframe\">\n",
       "  <thead>\n",
       "    <tr style=\"text-align: right;\">\n",
       "      <th></th>\n",
       "      <th>Обозначение документа</th>\n",
       "      <th>Наименование документа</th>\n",
       "      <th>Кол-во листов А4</th>\n",
       "      <th>Готовность документа</th>\n",
       "      <th>Подразделение</th>\n",
       "      <th>Разработчик</th>\n",
       "    </tr>\n",
       "  </thead>\n",
       "  <tbody>\n",
       "    <tr>\n",
       "      <td>1</td>\n",
       "      <td>ИКГТ.461273.052ВЭ</td>\n",
       "      <td>АКС Р-779-16. Ведомость эксплуатационных докум...</td>\n",
       "      <td>3.0</td>\n",
       "      <td>0.0</td>\n",
       "      <td>НТЦ ИКС НК</td>\n",
       "      <td>Петухова</td>\n",
       "    </tr>\n",
       "    <tr>\n",
       "      <td>2</td>\n",
       "      <td>ИКГТ.461273.052ВЭ-ЛУ</td>\n",
       "      <td>АКС Р-779-16. Ведомость эксплуатационных докум...</td>\n",
       "      <td>2.0</td>\n",
       "      <td>0.0</td>\n",
       "      <td>НТЦ ИКС НК</td>\n",
       "      <td>Петухова</td>\n",
       "    </tr>\n",
       "    <tr>\n",
       "      <td>4</td>\n",
       "      <td>ИКГТ.461273.052</td>\n",
       "      <td>АКС Р-779-16. Спецификация</td>\n",
       "      <td>182.0</td>\n",
       "      <td>0.0</td>\n",
       "      <td>ПКО</td>\n",
       "      <td>Не указан</td>\n",
       "    </tr>\n",
       "    <tr>\n",
       "      <td>5</td>\n",
       "      <td>ИКГТ.461273.052Э4</td>\n",
       "      <td>АКС Р-779-16. Схема электрическая соединений</td>\n",
       "      <td>182.0</td>\n",
       "      <td>0.0</td>\n",
       "      <td>НТЦ ИКС НК</td>\n",
       "      <td>Петухова</td>\n",
       "    </tr>\n",
       "    <tr>\n",
       "      <td>6</td>\n",
       "      <td>ИКГТ.461273.052ТЭ4, ИКГТ.461273.052ТЭ41</td>\n",
       "      <td>АКС Р-779-16. Таблица соединений</td>\n",
       "      <td>1042.0</td>\n",
       "      <td>0.0</td>\n",
       "      <td>НТЦ ИКС НК</td>\n",
       "      <td>Петухова</td>\n",
       "    </tr>\n",
       "  </tbody>\n",
       "</table>\n",
       "</div>"
      ],
      "text/plain": [
       "                     Обозначение документа  \\\n",
       "1                        ИКГТ.461273.052ВЭ   \n",
       "2                     ИКГТ.461273.052ВЭ-ЛУ   \n",
       "4                          ИКГТ.461273.052   \n",
       "5                        ИКГТ.461273.052Э4   \n",
       "6  ИКГТ.461273.052ТЭ4, ИКГТ.461273.052ТЭ41   \n",
       "\n",
       "                              Наименование документа  Кол-во листов А4   \\\n",
       "1  АКС Р-779-16. Ведомость эксплуатационных докум...                3.0   \n",
       "2  АКС Р-779-16. Ведомость эксплуатационных докум...                2.0   \n",
       "4                         АКС Р-779-16. Спецификация              182.0   \n",
       "5       АКС Р-779-16. Схема электрическая соединений              182.0   \n",
       "6                   АКС Р-779-16. Таблица соединений             1042.0   \n",
       "\n",
       "   Готовность документа Подразделение Разработчик  \n",
       "1                   0.0    НТЦ ИКС НК    Петухова  \n",
       "2                   0.0    НТЦ ИКС НК    Петухова  \n",
       "4                   0.0           ПКО   Не указан  \n",
       "5                   0.0    НТЦ ИКС НК    Петухова  \n",
       "6                   0.0    НТЦ ИКС НК    Петухова  "
      ]
     },
     "execution_count": 15,
     "metadata": {},
     "output_type": "execute_result"
    }
   ],
   "source": [
    "data.head()"
   ]
  },
  {
   "cell_type": "markdown",
   "metadata": {},
   "source": [
    "### 1.3.2 Приведем название подразделений к единообразию"
   ]
  },
  {
   "cell_type": "code",
   "execution_count": 16,
   "metadata": {},
   "outputs": [
    {
     "data": {
      "text/plain": [
       "1            НТЦ ИКС НК\n",
       "4                   ПКО\n",
       "54                  NaN\n",
       "56     Серийное изделие\n",
       "263                ПКО \n",
       "332         НТЦ ИКС НК \n",
       "355               РиМАП\n",
       "764               РИМАП\n",
       "Name: Подразделение, dtype: object"
      ]
     },
     "execution_count": 16,
     "metadata": {},
     "output_type": "execute_result"
    }
   ],
   "source": [
    "# Проверка\n",
    "data['Подразделение'].drop_duplicates()"
   ]
  },
  {
   "cell_type": "code",
   "execution_count": 17,
   "metadata": {},
   "outputs": [],
   "source": [
    "# изменим NaN значения на \"Не указано\"\n",
    "data.loc[data['Подразделение'].isnull(), 'Подразделение'] = 'Не указано'"
   ]
  },
  {
   "cell_type": "code",
   "execution_count": 18,
   "metadata": {},
   "outputs": [
    {
     "name": "stdout",
     "output_type": "stream",
     "text": [
      "(8584, 6)\n"
     ]
    },
    {
     "data": {
      "text/plain": [
       "1            НТЦ ИКС НК\n",
       "4                   ПКО\n",
       "54           Не указано\n",
       "56     Серийное изделие\n",
       "263                ПКО \n",
       "332         НТЦ ИКС НК \n",
       "355               РиМАП\n",
       "764               РИМАП\n",
       "Name: Подразделение, dtype: object"
      ]
     },
     "execution_count": 18,
     "metadata": {},
     "output_type": "execute_result"
    }
   ],
   "source": [
    "print(data.shape)\n",
    "data['Подразделение'].drop_duplicates()"
   ]
  },
  {
   "cell_type": "code",
   "execution_count": 19,
   "metadata": {},
   "outputs": [
    {
     "data": {
      "text/plain": [
       "1            НТЦ ИКС НК\n",
       "4                   ПКО\n",
       "54           Не указано\n",
       "56     Серийное изделие\n",
       "355               РИМАП\n",
       "Name: Подразделение, dtype: object"
      ]
     },
     "execution_count": 19,
     "metadata": {},
     "output_type": "execute_result"
    }
   ],
   "source": [
    "# Исправим сразу для всех\n",
    "rio = ['НТЦ ИКС НК', 'ПКО', 'РИМАП', 'Серийное изделие']\n",
    "for i in rio:\n",
    "    res = '(' + i[-2:] + ')'+'+'\n",
    "    data.loc[(data['Подразделение'].str.contains(res)), 'Подразделение'] = i\n",
    "\n",
    "# проверка\n",
    "data['Подразделение'].drop_duplicates()"
   ]
  },
  {
   "cell_type": "markdown",
   "metadata": {},
   "source": [
    "### 1.3.3 Удалим весь верхний уровень изделий (не указано подразделение)"
   ]
  },
  {
   "cell_type": "code",
   "execution_count": 20,
   "metadata": {},
   "outputs": [
    {
     "data": {
      "text/plain": [
       "(7859, 6)"
      ]
     },
     "execution_count": 20,
     "metadata": {},
     "output_type": "execute_result"
    }
   ],
   "source": [
    "data = data[~(data['Подразделение'] == 'Не указано')]\n",
    "data.shape"
   ]
  },
  {
   "cell_type": "markdown",
   "metadata": {},
   "source": [
    "### 1.3.4 Удалим все строки, для которых не указана готовность (повторы)"
   ]
  },
  {
   "cell_type": "code",
   "execution_count": 21,
   "metadata": {},
   "outputs": [],
   "source": [
    "data = data[~(data['Готовность документа'].isnull())]"
   ]
  },
  {
   "cell_type": "code",
   "execution_count": 22,
   "metadata": {},
   "outputs": [
    {
     "name": "stdout",
     "output_type": "stream",
     "text": [
      "(4347, 6)\n"
     ]
    },
    {
     "data": {
      "text/plain": [
       "Index(['Обозначение документа', 'Наименование документа', 'Кол-во листов А4 ',\n",
       "       'Готовность документа', 'Подразделение', 'Разработчик'],\n",
       "      dtype='object')"
      ]
     },
     "execution_count": 22,
     "metadata": {},
     "output_type": "execute_result"
    }
   ],
   "source": [
    "print(data.shape)\n",
    "data.columns"
   ]
  },
  {
   "cell_type": "markdown",
   "metadata": {},
   "source": [
    "### 1.3.5 Удалим значения NaN для остальных столбцов"
   ]
  },
  {
   "cell_type": "code",
   "execution_count": 23,
   "metadata": {},
   "outputs": [],
   "source": [
    "data.loc[data['Наименование документа'].isnull(), 'Наименование документа'] = '---'"
   ]
  },
  {
   "cell_type": "code",
   "execution_count": 24,
   "metadata": {},
   "outputs": [],
   "source": [
    "data.loc[data['Кол-во листов А4 '].isnull(), 'Кол-во листов А4 '] = 'Не указано'"
   ]
  },
  {
   "cell_type": "markdown",
   "metadata": {},
   "source": [
    "# Сводные таблицы "
   ]
  },
  {
   "cell_type": "markdown",
   "metadata": {},
   "source": [
    "##### Предварительно изменим название столбца 'Готовность документа' на 'Документов готово' и добавим столбец 'Документов не готово'"
   ]
  },
  {
   "cell_type": "code",
   "execution_count": 25,
   "metadata": {},
   "outputs": [],
   "source": [
    "data.rename(columns={'Готовность документа': 'Документов готово'}, inplace=True)\n",
    "data['Документов готово'] = data['Документов готово'].astype(int)\n",
    "data['Документов не готово'] = (data['Документов готово'].astype(int) - 1)*(-1)"
   ]
  },
  {
   "cell_type": "markdown",
   "metadata": {},
   "source": [
    "## 1 Состояние готовности в общем"
   ]
  },
  {
   "cell_type": "markdown",
   "metadata": {},
   "source": [
    "### 1.1 Все документы "
   ]
  },
  {
   "cell_type": "code",
   "execution_count": 26,
   "metadata": {},
   "outputs": [
    {
     "data": {
      "text/html": [
       "<div>\n",
       "<style scoped>\n",
       "    .dataframe tbody tr th:only-of-type {\n",
       "        vertical-align: middle;\n",
       "    }\n",
       "\n",
       "    .dataframe tbody tr th {\n",
       "        vertical-align: top;\n",
       "    }\n",
       "\n",
       "    .dataframe thead tr th {\n",
       "        text-align: left;\n",
       "    }\n",
       "</style>\n",
       "<table border=\"1\" class=\"dataframe\">\n",
       "  <thead>\n",
       "    <tr>\n",
       "      <th></th>\n",
       "      <th colspan=\"2\" halign=\"left\">14.01.2020</th>\n",
       "    </tr>\n",
       "    <tr>\n",
       "      <th></th>\n",
       "      <th>Документов готово</th>\n",
       "      <th>Документов не готово</th>\n",
       "    </tr>\n",
       "  </thead>\n",
       "  <tbody>\n",
       "    <tr>\n",
       "      <td>Всего, шт</td>\n",
       "      <td>3337</td>\n",
       "      <td>1010</td>\n",
       "    </tr>\n",
       "  </tbody>\n",
       "</table>\n",
       "</div>"
      ],
      "text/plain": [
       "                 14.01.2020                     \n",
       "          Документов готово Документов не готово\n",
       "Всего, шт              3337                 1010"
      ]
     },
     "execution_count": 26,
     "metadata": {},
     "output_type": "execute_result"
    }
   ],
   "source": [
    "result = pd.DataFrame(index = ['Всего, шт'], columns=['Документов готово', 'Документов не готово'])\n",
    "result['Документов готово'] = data['Документов готово'].sum()\n",
    "result['Документов не готово'] = data['Документов не готово'].sum()\n",
    "result.columns = pd.MultiIndex.from_product([[date], result.columns])\n",
    "result"
   ]
  },
  {
   "cell_type": "markdown",
   "metadata": {},
   "source": [
    "### 1.2 Все документы в процентах от общего количества по всему проекту"
   ]
  },
  {
   "cell_type": "code",
   "execution_count": 27,
   "metadata": {},
   "outputs": [
    {
     "data": {
      "text/html": [
       "<div>\n",
       "<style scoped>\n",
       "    .dataframe tbody tr th:only-of-type {\n",
       "        vertical-align: middle;\n",
       "    }\n",
       "\n",
       "    .dataframe tbody tr th {\n",
       "        vertical-align: top;\n",
       "    }\n",
       "\n",
       "    .dataframe thead tr th {\n",
       "        text-align: left;\n",
       "    }\n",
       "</style>\n",
       "<table border=\"1\" class=\"dataframe\">\n",
       "  <thead>\n",
       "    <tr>\n",
       "      <th></th>\n",
       "      <th colspan=\"2\" halign=\"left\">14.01.2020</th>\n",
       "    </tr>\n",
       "    <tr>\n",
       "      <th></th>\n",
       "      <th>Документов готово</th>\n",
       "      <th>Документов не готово</th>\n",
       "    </tr>\n",
       "  </thead>\n",
       "  <tbody>\n",
       "    <tr>\n",
       "      <td>Всего, %</td>\n",
       "      <td>77.0</td>\n",
       "      <td>23.0</td>\n",
       "    </tr>\n",
       "  </tbody>\n",
       "</table>\n",
       "</div>"
      ],
      "text/plain": [
       "                14.01.2020                     \n",
       "         Документов готово Документов не готово\n",
       "Всего, %              77.0                 23.0"
      ]
     },
     "execution_count": 27,
     "metadata": {},
     "output_type": "execute_result"
    }
   ],
   "source": [
    "resperc = (result / data.shape[0]) * 100\n",
    "resperc = resperc.apply(np.round)\n",
    "resperc.index = ['Всего, %']\n",
    "resperc"
   ]
  },
  {
   "cell_type": "markdown",
   "metadata": {},
   "source": [
    "## 2 Состояние готовности документации по подразделениям"
   ]
  },
  {
   "cell_type": "markdown",
   "metadata": {},
   "source": [
    "### 2.1 Готовность документов"
   ]
  },
  {
   "cell_type": "code",
   "execution_count": 28,
   "metadata": {},
   "outputs": [
    {
     "data": {
      "text/html": [
       "<div>\n",
       "<style scoped>\n",
       "    .dataframe tbody tr th:only-of-type {\n",
       "        vertical-align: middle;\n",
       "    }\n",
       "\n",
       "    .dataframe tbody tr th {\n",
       "        vertical-align: top;\n",
       "    }\n",
       "\n",
       "    .dataframe thead tr th {\n",
       "        text-align: left;\n",
       "    }\n",
       "\n",
       "    .dataframe thead tr:last-of-type th {\n",
       "        text-align: right;\n",
       "    }\n",
       "</style>\n",
       "<table border=\"1\" class=\"dataframe\">\n",
       "  <thead>\n",
       "    <tr>\n",
       "      <th></th>\n",
       "      <th colspan=\"2\" halign=\"left\">14.01.2020</th>\n",
       "    </tr>\n",
       "    <tr>\n",
       "      <th></th>\n",
       "      <th>Документов готово</th>\n",
       "      <th>Документов не готово</th>\n",
       "    </tr>\n",
       "    <tr>\n",
       "      <th>Подразделение</th>\n",
       "      <th></th>\n",
       "      <th></th>\n",
       "    </tr>\n",
       "  </thead>\n",
       "  <tbody>\n",
       "    <tr>\n",
       "      <td>НТЦ ИКС НК</td>\n",
       "      <td>288</td>\n",
       "      <td>593</td>\n",
       "    </tr>\n",
       "    <tr>\n",
       "      <td>ПКО</td>\n",
       "      <td>2153</td>\n",
       "      <td>236</td>\n",
       "    </tr>\n",
       "    <tr>\n",
       "      <td>РИМАП</td>\n",
       "      <td>864</td>\n",
       "      <td>181</td>\n",
       "    </tr>\n",
       "    <tr>\n",
       "      <td>Серийное изделие</td>\n",
       "      <td>32</td>\n",
       "      <td>0</td>\n",
       "    </tr>\n",
       "  </tbody>\n",
       "</table>\n",
       "</div>"
      ],
      "text/plain": [
       "                        14.01.2020                     \n",
       "                 Документов готово Документов не готово\n",
       "Подразделение                                          \n",
       "НТЦ ИКС НК                     288                  593\n",
       "ПКО                           2153                  236\n",
       "РИМАП                          864                  181\n",
       "Серийное изделие                32                    0"
      ]
     },
     "execution_count": 28,
     "metadata": {},
     "output_type": "execute_result"
    }
   ],
   "source": [
    "complit = data.pivot_table(['Документов готово', 'Документов не готово'], 'Подразделение', aggfunc=sum)\n",
    "# добавим дату\n",
    "complit.columns = pd.MultiIndex.from_product([[date], complit.columns])\n",
    "\n",
    "complit"
   ]
  },
  {
   "cell_type": "markdown",
   "metadata": {},
   "source": [
    "### 2.2 Готовность документов в процентах (от общего количества по всему проекту)"
   ]
  },
  {
   "cell_type": "code",
   "execution_count": 29,
   "metadata": {},
   "outputs": [
    {
     "data": {
      "text/html": [
       "<div>\n",
       "<style scoped>\n",
       "    .dataframe tbody tr th:only-of-type {\n",
       "        vertical-align: middle;\n",
       "    }\n",
       "\n",
       "    .dataframe tbody tr th {\n",
       "        vertical-align: top;\n",
       "    }\n",
       "\n",
       "    .dataframe thead tr th {\n",
       "        text-align: left;\n",
       "    }\n",
       "\n",
       "    .dataframe thead tr:last-of-type th {\n",
       "        text-align: right;\n",
       "    }\n",
       "</style>\n",
       "<table border=\"1\" class=\"dataframe\">\n",
       "  <thead>\n",
       "    <tr>\n",
       "      <th></th>\n",
       "      <th colspan=\"3\" halign=\"left\">14.01.2020</th>\n",
       "    </tr>\n",
       "    <tr>\n",
       "      <th></th>\n",
       "      <th>Документов готово</th>\n",
       "      <th>Документов не готово</th>\n",
       "      <th>Всего от общего количества</th>\n",
       "    </tr>\n",
       "    <tr>\n",
       "      <th>Подразделение</th>\n",
       "      <th></th>\n",
       "      <th></th>\n",
       "      <th></th>\n",
       "    </tr>\n",
       "  </thead>\n",
       "  <tbody>\n",
       "    <tr>\n",
       "      <td>НТЦ ИКС НК</td>\n",
       "      <td>7.0</td>\n",
       "      <td>14.0</td>\n",
       "      <td>21.0</td>\n",
       "    </tr>\n",
       "    <tr>\n",
       "      <td>ПКО</td>\n",
       "      <td>50.0</td>\n",
       "      <td>5.0</td>\n",
       "      <td>55.0</td>\n",
       "    </tr>\n",
       "    <tr>\n",
       "      <td>РИМАП</td>\n",
       "      <td>20.0</td>\n",
       "      <td>4.0</td>\n",
       "      <td>24.0</td>\n",
       "    </tr>\n",
       "    <tr>\n",
       "      <td>Серийное изделие</td>\n",
       "      <td>1.0</td>\n",
       "      <td>0.0</td>\n",
       "      <td>1.0</td>\n",
       "    </tr>\n",
       "  </tbody>\n",
       "</table>\n",
       "</div>"
      ],
      "text/plain": [
       "                        14.01.2020                       \\\n",
       "                 Документов готово Документов не готово   \n",
       "Подразделение                                             \n",
       "НТЦ ИКС НК                     7.0                 14.0   \n",
       "ПКО                           50.0                  5.0   \n",
       "РИМАП                         20.0                  4.0   \n",
       "Серийное изделие               1.0                  0.0   \n",
       "\n",
       "                                             \n",
       "                 Всего от общего количества  \n",
       "Подразделение                                \n",
       "НТЦ ИКС НК                             21.0  \n",
       "ПКО                                    55.0  \n",
       "РИМАП                                  24.0  \n",
       "Серийное изделие                        1.0  "
      ]
     },
     "execution_count": 29,
     "metadata": {},
     "output_type": "execute_result"
    }
   ],
   "source": [
    "complitpercent = (complit / data.shape[0]) * 100\n",
    "complitpercent = complitpercent.apply(np.round)\n",
    "complitpercent[date, 'Всего от общего количества'] = complitpercent[date, 'Документов готово'] + complitpercent[date, 'Документов не готово']\n",
    "complitpercent"
   ]
  },
  {
   "cell_type": "markdown",
   "metadata": {},
   "source": [
    "В представленной таблице указано, сколько в процентах от общего количества документации по проекту сделано или не сделано каждым подразделением. Например, НТЦ ИКС НК делает 21 % от всех документов по проекту, из них готово 7 % (от общего количества), не готово 14 % (от общего количества)"
   ]
  },
  {
   "cell_type": "markdown",
   "metadata": {},
   "source": [
    "### 2.3 Готовность документов в процентах (по подразделениям)"
   ]
  },
  {
   "cell_type": "code",
   "execution_count": 30,
   "metadata": {
    "scrolled": true
   },
   "outputs": [
    {
     "data": {
      "text/html": [
       "<div>\n",
       "<style scoped>\n",
       "    .dataframe tbody tr th:only-of-type {\n",
       "        vertical-align: middle;\n",
       "    }\n",
       "\n",
       "    .dataframe tbody tr th {\n",
       "        vertical-align: top;\n",
       "    }\n",
       "\n",
       "    .dataframe thead tr th {\n",
       "        text-align: left;\n",
       "    }\n",
       "\n",
       "    .dataframe thead tr:last-of-type th {\n",
       "        text-align: right;\n",
       "    }\n",
       "</style>\n",
       "<table border=\"1\" class=\"dataframe\">\n",
       "  <thead>\n",
       "    <tr>\n",
       "      <th></th>\n",
       "      <th colspan=\"2\" halign=\"left\">14.01.2020</th>\n",
       "    </tr>\n",
       "    <tr>\n",
       "      <th></th>\n",
       "      <th>Документов готово</th>\n",
       "      <th>Документов не готово</th>\n",
       "    </tr>\n",
       "    <tr>\n",
       "      <th>Подразделение</th>\n",
       "      <th></th>\n",
       "      <th></th>\n",
       "    </tr>\n",
       "  </thead>\n",
       "  <tbody>\n",
       "    <tr>\n",
       "      <td>НТЦ ИКС НК</td>\n",
       "      <td>33.0</td>\n",
       "      <td>67.0</td>\n",
       "    </tr>\n",
       "    <tr>\n",
       "      <td>ПКО</td>\n",
       "      <td>90.0</td>\n",
       "      <td>10.0</td>\n",
       "    </tr>\n",
       "    <tr>\n",
       "      <td>РИМАП</td>\n",
       "      <td>83.0</td>\n",
       "      <td>17.0</td>\n",
       "    </tr>\n",
       "    <tr>\n",
       "      <td>Серийное изделие</td>\n",
       "      <td>100.0</td>\n",
       "      <td>0.0</td>\n",
       "    </tr>\n",
       "  </tbody>\n",
       "</table>\n",
       "</div>"
      ],
      "text/plain": [
       "                        14.01.2020                     \n",
       "                 Документов готово Документов не готово\n",
       "Подразделение                                          \n",
       "НТЦ ИКС НК                    33.0                 67.0\n",
       "ПКО                           90.0                 10.0\n",
       "РИМАП                         83.0                 17.0\n",
       "Серийное изделие             100.0                  0.0"
      ]
     },
     "execution_count": 30,
     "metadata": {},
     "output_type": "execute_result"
    }
   ],
   "source": [
    "compp = pd.DataFrame() # пустой объект DF\n",
    "for i in list(complit):\n",
    "    compp[i[1]] = (complit[i]/(complit[date, 'Документов готово'] + complit[date, 'Документов не готово'])) * 100 # переводим значения каждого столбца в проценты\n",
    "compp = compp.apply(np.round) # округляем\n",
    "compp.columns = pd.MultiIndex.from_product([[date], compp.columns])\n",
    "compp"
   ]
  },
  {
   "cell_type": "markdown",
   "metadata": {},
   "source": [
    "В представленной таблице приведена готовность в процентах по документам, разрабатываемым конкретным подразделением.\n",
    "Например, из всей документации, которую разрабатывает ПКО 82 % сделано, 18 % не сделано."
   ]
  },
  {
   "cell_type": "markdown",
   "metadata": {},
   "source": [
    "## 3. Состояние готовности документации по исполнителям"
   ]
  },
  {
   "cell_type": "markdown",
   "metadata": {},
   "source": [
    "### 3.1 Добавим сотрудников к каждому подразделению"
   ]
  },
  {
   "cell_type": "code",
   "execution_count": 31,
   "metadata": {},
   "outputs": [
    {
     "data": {
      "text/html": [
       "<div>\n",
       "<style scoped>\n",
       "    .dataframe tbody tr th:only-of-type {\n",
       "        vertical-align: middle;\n",
       "    }\n",
       "\n",
       "    .dataframe tbody tr th {\n",
       "        vertical-align: top;\n",
       "    }\n",
       "\n",
       "    .dataframe thead tr th {\n",
       "        text-align: left;\n",
       "    }\n",
       "\n",
       "    .dataframe thead tr:last-of-type th {\n",
       "        text-align: right;\n",
       "    }\n",
       "</style>\n",
       "<table border=\"1\" class=\"dataframe\">\n",
       "  <thead>\n",
       "    <tr>\n",
       "      <th></th>\n",
       "      <th></th>\n",
       "      <th colspan=\"2\" halign=\"left\">14.01.2020</th>\n",
       "    </tr>\n",
       "    <tr>\n",
       "      <th></th>\n",
       "      <th></th>\n",
       "      <th>Документов готово</th>\n",
       "      <th>Документов не готово</th>\n",
       "    </tr>\n",
       "    <tr>\n",
       "      <th>Подразделение</th>\n",
       "      <th>Разработчик</th>\n",
       "      <th></th>\n",
       "      <th></th>\n",
       "    </tr>\n",
       "  </thead>\n",
       "  <tbody>\n",
       "    <tr>\n",
       "      <td rowspan=\"11\" valign=\"top\">НТЦ ИКС НК</td>\n",
       "      <td>Бычков</td>\n",
       "      <td>3</td>\n",
       "      <td>0</td>\n",
       "    </tr>\n",
       "    <tr>\n",
       "      <td>Варфоломеев</td>\n",
       "      <td>14</td>\n",
       "      <td>1</td>\n",
       "    </tr>\n",
       "    <tr>\n",
       "      <td>Лившиц</td>\n",
       "      <td>100</td>\n",
       "      <td>25</td>\n",
       "    </tr>\n",
       "    <tr>\n",
       "      <td>Матюшков</td>\n",
       "      <td>0</td>\n",
       "      <td>233</td>\n",
       "    </tr>\n",
       "    <tr>\n",
       "      <td>Не указан</td>\n",
       "      <td>3</td>\n",
       "      <td>21</td>\n",
       "    </tr>\n",
       "    <tr>\n",
       "      <td>Паскина</td>\n",
       "      <td>0</td>\n",
       "      <td>2</td>\n",
       "    </tr>\n",
       "    <tr>\n",
       "      <td>Петухова</td>\n",
       "      <td>33</td>\n",
       "      <td>16</td>\n",
       "    </tr>\n",
       "    <tr>\n",
       "      <td>Попик</td>\n",
       "      <td>15</td>\n",
       "      <td>81</td>\n",
       "    </tr>\n",
       "    <tr>\n",
       "      <td>Русанцов</td>\n",
       "      <td>0</td>\n",
       "      <td>182</td>\n",
       "    </tr>\n",
       "    <tr>\n",
       "      <td>Тропников</td>\n",
       "      <td>120</td>\n",
       "      <td>30</td>\n",
       "    </tr>\n",
       "    <tr>\n",
       "      <td>Храковский</td>\n",
       "      <td>0</td>\n",
       "      <td>2</td>\n",
       "    </tr>\n",
       "    <tr>\n",
       "      <td>ПКО</td>\n",
       "      <td>Не указан</td>\n",
       "      <td>2153</td>\n",
       "      <td>236</td>\n",
       "    </tr>\n",
       "    <tr>\n",
       "      <td>РИМАП</td>\n",
       "      <td>Не указан</td>\n",
       "      <td>864</td>\n",
       "      <td>181</td>\n",
       "    </tr>\n",
       "    <tr>\n",
       "      <td>Серийное изделие</td>\n",
       "      <td>Не указан</td>\n",
       "      <td>32</td>\n",
       "      <td>0</td>\n",
       "    </tr>\n",
       "  </tbody>\n",
       "</table>\n",
       "</div>"
      ],
      "text/plain": [
       "                                    14.01.2020                     \n",
       "                             Документов готово Документов не готово\n",
       "Подразделение    Разработчик                                       \n",
       "НТЦ ИКС НК       Бычков                      3                    0\n",
       "                 Варфоломеев                14                    1\n",
       "                 Лившиц                    100                   25\n",
       "                 Матюшков                    0                  233\n",
       "                 Не указан                   3                   21\n",
       "                 Паскина                     0                    2\n",
       "                 Петухова                   33                   16\n",
       "                 Попик                      15                   81\n",
       "                 Русанцов                    0                  182\n",
       "                 Тропников                 120                   30\n",
       "                 Храковский                  0                    2\n",
       "ПКО              Не указан                2153                  236\n",
       "РИМАП            Не указан                 864                  181\n",
       "Серийное изделие Не указан                  32                    0"
      ]
     },
     "execution_count": 31,
     "metadata": {},
     "output_type": "execute_result"
    }
   ],
   "source": [
    "isp = data.pivot_table(['Документов готово', 'Документов не готово'], ['Подразделение', 'Разработчик'], aggfunc=sum)\n",
    "# добавим дату\n",
    "isp.columns = pd.MultiIndex.from_product([[date], isp.columns])\n",
    "isp"
   ]
  },
  {
   "cell_type": "markdown",
   "metadata": {},
   "source": [
    "Определим имена сохраняемых файлов"
   ]
  },
  {
   "cell_type": "code",
   "execution_count": 32,
   "metadata": {},
   "outputs": [],
   "source": [
    "pathsv = 'Output\\\\' + date + '\\\\' # указать путь сохранения файла\n",
    "if not os.path.exists(pathsv):\n",
    "    os.makedirs(pathsv)    # создать директорию, если она не существует\n",
    "\n",
    "result.to_csv(pathsv + date + '_Все_документы' + '.csv', encoding='cp1251')# Таблица с общим количеством документов\n",
    "resperc.to_csv(pathsv + date + '_Все_документы_%' + '.csv', encoding='cp1251')# Таблица с общим количеством документов в процентах\n",
    "complit.to_csv(pathsv + date + '_Все_документы_подр' + '.csv', encoding='cp1251')# Готовность документов по подразделениям (общее) ######\n",
    "complitpercent.to_csv(pathsv + date + '_Все_документы_подр_общ_%' + '.csv', encoding='cp1251')# Готовность документов по подразделениям в процентах (от общего количества по всему проекту)\n",
    "compp.to_csv(pathsv + date + '_Все_документы_подр_%' + '.csv', encoding='cp1251')# Готовность документов в процентах (по подразделениям) ######\n",
    "isp.to_csv(pathsv + date + '_Все_документы_исп' + '.csv', encoding='cp1251')# Состояние готовности документации по исполнителям"
   ]
  },
  {
   "cell_type": "markdown",
   "metadata": {},
   "source": [
    "##### Обработка полученных результатов и анализ данных за временные периоды приведен в Sort_data"
   ]
  }
 ],
 "metadata": {
  "kernelspec": {
   "display_name": "Python 3",
   "language": "python",
   "name": "python3"
  },
  "language_info": {
   "codemirror_mode": {
    "name": "ipython",
    "version": 3
   },
   "file_extension": ".py",
   "mimetype": "text/x-python",
   "name": "python",
   "nbconvert_exporter": "python",
   "pygments_lexer": "ipython3",
   "version": "3.7.4"
  }
 },
 "nbformat": 4,
 "nbformat_minor": 2
}
