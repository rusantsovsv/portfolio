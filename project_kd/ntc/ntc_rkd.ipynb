{
 "cells": [
  {
   "cell_type": "code",
   "execution_count": 1,
   "metadata": {},
   "outputs": [],
   "source": [
    "import pandas as pd\n",
    "import numpy as np\n",
    "import matplotlib.pyplot as plt\n",
    "%matplotlib inline\n",
    "import os\n",
    "import seaborn as sns\n",
    "sns.set()"
   ]
  },
  {
   "cell_type": "markdown",
   "metadata": {},
   "source": [
    "# 1. Предварительная очистка данных"
   ]
  },
  {
   "cell_type": "markdown",
   "metadata": {},
   "source": [
    "Необходимо в файле Exell для раскрашеных документов поставить метки - красный - 0, зеленый 1"
   ]
  },
  {
   "cell_type": "markdown",
   "metadata": {},
   "source": [
    "## 1.1 Загрузка таблицы и удаление не нужных столбцов"
   ]
  },
  {
   "cell_type": "code",
   "execution_count": 2,
   "metadata": {},
   "outputs": [
    {
     "data": {
      "text/plain": [
       "'Excel\\\\14.input_ntc_26.12.2019.xlsx'"
      ]
     },
     "execution_count": 2,
     "metadata": {},
     "output_type": "execute_result"
    }
   ],
   "source": [
    "pathdir = 'Excel'\n",
    "listfile = os.listdir(pathdir)\n",
    "path = pathdir + '\\\\' + listfile[-1]\n",
    "path"
   ]
  },
  {
   "cell_type": "markdown",
   "metadata": {},
   "source": [
    "Можно указать вручную"
   ]
  },
  {
   "cell_type": "code",
   "execution_count": 3,
   "metadata": {},
   "outputs": [
    {
     "data": {
      "text/plain": [
       "(9535, 14)"
      ]
     },
     "execution_count": 3,
     "metadata": {},
     "output_type": "execute_result"
    }
   ],
   "source": [
    "# path =\n",
    "data = pd.read_excel(path, encoding='cp1251') # для csv - read_csv\n",
    "data.shape"
   ]
  },
  {
   "cell_type": "markdown",
   "metadata": {},
   "source": [
    "Сохраним дату документа"
   ]
  },
  {
   "cell_type": "code",
   "execution_count": 4,
   "metadata": {},
   "outputs": [
    {
     "data": {
      "text/plain": [
       "'26.12.2019'"
      ]
     },
     "execution_count": 4,
     "metadata": {},
     "output_type": "execute_result"
    }
   ],
   "source": [
    "date = path[-15:-5]\n",
    "date"
   ]
  },
  {
   "cell_type": "markdown",
   "metadata": {},
   "source": [
    "Выбрать только требуемые столбцы"
   ]
  },
  {
   "cell_type": "code",
   "execution_count": 5,
   "metadata": {},
   "outputs": [],
   "source": [
    "data = data[['Обозначение документа', 'Наименование документа',\n",
    "            'Кол-во листов А4 ', 'Готовность документа', 'Подразделение',\n",
    "            'Разработчик', 'Метка готовности']]"
   ]
  },
  {
   "cell_type": "code",
   "execution_count": 6,
   "metadata": {},
   "outputs": [
    {
     "data": {
      "text/plain": [
       "(9535, 7)"
      ]
     },
     "execution_count": 6,
     "metadata": {},
     "output_type": "execute_result"
    }
   ],
   "source": [
    "data.shape # размерность таблицы (количество строк, количество столбцов)"
   ]
  },
  {
   "cell_type": "code",
   "execution_count": 7,
   "metadata": {},
   "outputs": [
    {
     "data": {
      "text/html": [
       "<div>\n",
       "<style scoped>\n",
       "    .dataframe tbody tr th:only-of-type {\n",
       "        vertical-align: middle;\n",
       "    }\n",
       "\n",
       "    .dataframe tbody tr th {\n",
       "        vertical-align: top;\n",
       "    }\n",
       "\n",
       "    .dataframe thead th {\n",
       "        text-align: right;\n",
       "    }\n",
       "</style>\n",
       "<table border=\"1\" class=\"dataframe\">\n",
       "  <thead>\n",
       "    <tr style=\"text-align: right;\">\n",
       "      <th></th>\n",
       "      <th>Обозначение документа</th>\n",
       "      <th>Наименование документа</th>\n",
       "      <th>Кол-во листов А4</th>\n",
       "      <th>Готовность документа</th>\n",
       "      <th>Подразделение</th>\n",
       "      <th>Разработчик</th>\n",
       "      <th>Метка готовности</th>\n",
       "    </tr>\n",
       "  </thead>\n",
       "  <tbody>\n",
       "    <tr>\n",
       "      <td>0</td>\n",
       "      <td>NaN</td>\n",
       "      <td>Документация на АКС Р-779-16</td>\n",
       "      <td>NaN</td>\n",
       "      <td>NaN</td>\n",
       "      <td>NaN</td>\n",
       "      <td>NaN</td>\n",
       "      <td>NaN</td>\n",
       "    </tr>\n",
       "    <tr>\n",
       "      <td>1</td>\n",
       "      <td>ИКГТ.461273.052ВЭ</td>\n",
       "      <td>АКС Р-779-16. Ведомость эксплуатационных докум...</td>\n",
       "      <td>3.0</td>\n",
       "      <td>Готов</td>\n",
       "      <td>НТЦ ИКС НК</td>\n",
       "      <td>Петухова</td>\n",
       "      <td>0.0</td>\n",
       "    </tr>\n",
       "    <tr>\n",
       "      <td>2</td>\n",
       "      <td>ИКГТ.461273.052ВЭ-ЛУ</td>\n",
       "      <td>АКС Р-779-16. Ведомость эксплуатационных докум...</td>\n",
       "      <td>2.0</td>\n",
       "      <td>Готов</td>\n",
       "      <td>НТЦ ИКС НК</td>\n",
       "      <td>Петухова</td>\n",
       "      <td>0.0</td>\n",
       "    </tr>\n",
       "    <tr>\n",
       "      <td>3</td>\n",
       "      <td>NaN</td>\n",
       "      <td>Документация общая</td>\n",
       "      <td>2652.0</td>\n",
       "      <td>NaN</td>\n",
       "      <td>NaN</td>\n",
       "      <td>NaN</td>\n",
       "      <td>NaN</td>\n",
       "    </tr>\n",
       "    <tr>\n",
       "      <td>4</td>\n",
       "      <td>ИКГТ.461273.052</td>\n",
       "      <td>АКС Р-779-16. Спецификация</td>\n",
       "      <td>182.0</td>\n",
       "      <td>В разработке</td>\n",
       "      <td>ПКО</td>\n",
       "      <td>NaN</td>\n",
       "      <td>0.0</td>\n",
       "    </tr>\n",
       "    <tr>\n",
       "      <td>5</td>\n",
       "      <td>ИКГТ.461273.052Э4</td>\n",
       "      <td>АКС Р-779-16. Схема электрическая соединений</td>\n",
       "      <td>182.0</td>\n",
       "      <td>Готов</td>\n",
       "      <td>НТЦ ИКС НК</td>\n",
       "      <td>Петухова</td>\n",
       "      <td>0.0</td>\n",
       "    </tr>\n",
       "    <tr>\n",
       "      <td>6</td>\n",
       "      <td>ИКГТ.461273.052ТЭ4, ИКГТ.461273.052ТЭ41</td>\n",
       "      <td>АКС Р-779-16. Таблица соединений</td>\n",
       "      <td>1042.0</td>\n",
       "      <td>Готов</td>\n",
       "      <td>НТЦ ИКС НК</td>\n",
       "      <td>Петухова</td>\n",
       "      <td>0.0</td>\n",
       "    </tr>\n",
       "    <tr>\n",
       "      <td>7</td>\n",
       "      <td>ИКГТ.461273.052ПЭ4</td>\n",
       "      <td>АКС Р-779-16. Перечень элементов</td>\n",
       "      <td>39.0</td>\n",
       "      <td>Готов</td>\n",
       "      <td>НТЦ ИКС НК</td>\n",
       "      <td>Петухова</td>\n",
       "      <td>0.0</td>\n",
       "    </tr>\n",
       "    <tr>\n",
       "      <td>8</td>\n",
       "      <td>ИКГТ.461273.052РЭ</td>\n",
       "      <td>АКС Р-779-16. Руководство по эксплуатации</td>\n",
       "      <td>NaN</td>\n",
       "      <td>Готов</td>\n",
       "      <td>НТЦ ИКС НК</td>\n",
       "      <td>Русанцов</td>\n",
       "      <td>0.0</td>\n",
       "    </tr>\n",
       "    <tr>\n",
       "      <td>9</td>\n",
       "      <td>ИКГТ.461273.052РЭ-ЛУ</td>\n",
       "      <td>АКС Р-779-16. Руководство по эксплуатации. Лис...</td>\n",
       "      <td>NaN</td>\n",
       "      <td>Готов</td>\n",
       "      <td>НТЦ ИКС НК</td>\n",
       "      <td>Русанцов</td>\n",
       "      <td>0.0</td>\n",
       "    </tr>\n",
       "  </tbody>\n",
       "</table>\n",
       "</div>"
      ],
      "text/plain": [
       "                     Обозначение документа  \\\n",
       "0                                      NaN   \n",
       "1                        ИКГТ.461273.052ВЭ   \n",
       "2                     ИКГТ.461273.052ВЭ-ЛУ   \n",
       "3                                      NaN   \n",
       "4                          ИКГТ.461273.052   \n",
       "5                        ИКГТ.461273.052Э4   \n",
       "6  ИКГТ.461273.052ТЭ4, ИКГТ.461273.052ТЭ41   \n",
       "7                       ИКГТ.461273.052ПЭ4   \n",
       "8                        ИКГТ.461273.052РЭ   \n",
       "9                     ИКГТ.461273.052РЭ-ЛУ   \n",
       "\n",
       "                              Наименование документа  Кол-во листов А4   \\\n",
       "0                       Документация на АКС Р-779-16                NaN   \n",
       "1  АКС Р-779-16. Ведомость эксплуатационных докум...                3.0   \n",
       "2  АКС Р-779-16. Ведомость эксплуатационных докум...                2.0   \n",
       "3                                 Документация общая             2652.0   \n",
       "4                         АКС Р-779-16. Спецификация              182.0   \n",
       "5       АКС Р-779-16. Схема электрическая соединений              182.0   \n",
       "6                   АКС Р-779-16. Таблица соединений             1042.0   \n",
       "7                   АКС Р-779-16. Перечень элементов               39.0   \n",
       "8          АКС Р-779-16. Руководство по эксплуатации                NaN   \n",
       "9  АКС Р-779-16. Руководство по эксплуатации. Лис...                NaN   \n",
       "\n",
       "  Готовность документа Подразделение Разработчик  Метка готовности  \n",
       "0                  NaN           NaN         NaN               NaN  \n",
       "1                Готов    НТЦ ИКС НК    Петухова               0.0  \n",
       "2                Готов    НТЦ ИКС НК    Петухова               0.0  \n",
       "3                  NaN           NaN         NaN               NaN  \n",
       "4         В разработке           ПКО         NaN               0.0  \n",
       "5                Готов    НТЦ ИКС НК    Петухова               0.0  \n",
       "6                Готов    НТЦ ИКС НК    Петухова               0.0  \n",
       "7                Готов    НТЦ ИКС НК    Петухова               0.0  \n",
       "8                Готов    НТЦ ИКС НК    Русанцов               0.0  \n",
       "9                Готов    НТЦ ИКС НК    Русанцов               0.0  "
      ]
     },
     "execution_count": 7,
     "metadata": {},
     "output_type": "execute_result"
    }
   ],
   "source": [
    "data[0:10] # первые 10 строк"
   ]
  },
  {
   "cell_type": "markdown",
   "metadata": {},
   "source": [
    "Для сохранения таблицы в csv"
   ]
  },
  {
   "cell_type": "code",
   "execution_count": 8,
   "metadata": {},
   "outputs": [],
   "source": [
    "# data.to_csv('18.09.2019_rkd.csv', encoding='cp1251')"
   ]
  },
  {
   "cell_type": "markdown",
   "metadata": {},
   "source": [
    "## 1.2 Удаляем строки без обозначения документа, подразделения и количества листов"
   ]
  },
  {
   "cell_type": "code",
   "execution_count": 9,
   "metadata": {},
   "outputs": [
    {
     "data": {
      "text/html": [
       "<div>\n",
       "<style scoped>\n",
       "    .dataframe tbody tr th:only-of-type {\n",
       "        vertical-align: middle;\n",
       "    }\n",
       "\n",
       "    .dataframe tbody tr th {\n",
       "        vertical-align: top;\n",
       "    }\n",
       "\n",
       "    .dataframe thead th {\n",
       "        text-align: right;\n",
       "    }\n",
       "</style>\n",
       "<table border=\"1\" class=\"dataframe\">\n",
       "  <thead>\n",
       "    <tr style=\"text-align: right;\">\n",
       "      <th></th>\n",
       "      <th>Обозначение документа</th>\n",
       "      <th>Наименование документа</th>\n",
       "      <th>Кол-во листов А4</th>\n",
       "      <th>Готовность документа</th>\n",
       "      <th>Подразделение</th>\n",
       "      <th>Разработчик</th>\n",
       "      <th>Метка готовности</th>\n",
       "    </tr>\n",
       "  </thead>\n",
       "  <tbody>\n",
       "    <tr>\n",
       "      <td>9497</td>\n",
       "      <td>ИКГТ.755223.002</td>\n",
       "      <td>Уголок.Чертеж детали</td>\n",
       "      <td>NaN</td>\n",
       "      <td>NaN</td>\n",
       "      <td>ПКО</td>\n",
       "      <td>NaN</td>\n",
       "      <td>1.0</td>\n",
       "    </tr>\n",
       "    <tr>\n",
       "      <td>9498</td>\n",
       "      <td>ИКГТ.758491.020</td>\n",
       "      <td>Втулка.Чертеж детали</td>\n",
       "      <td>NaN</td>\n",
       "      <td>NaN</td>\n",
       "      <td>ПКО</td>\n",
       "      <td>NaN</td>\n",
       "      <td>1.0</td>\n",
       "    </tr>\n",
       "    <tr>\n",
       "      <td>9499</td>\n",
       "      <td>ИКГТ.753161.003</td>\n",
       "      <td>Втулка.Чертеж детали</td>\n",
       "      <td>NaN</td>\n",
       "      <td>NaN</td>\n",
       "      <td>ПКО</td>\n",
       "      <td>NaN</td>\n",
       "      <td>1.0</td>\n",
       "    </tr>\n",
       "    <tr>\n",
       "      <td>9500</td>\n",
       "      <td>ИКГТ.713312.001</td>\n",
       "      <td>Штемпель.Чертеж детали</td>\n",
       "      <td>NaN</td>\n",
       "      <td>NaN</td>\n",
       "      <td>ПКО</td>\n",
       "      <td>NaN</td>\n",
       "      <td>1.0</td>\n",
       "    </tr>\n",
       "    <tr>\n",
       "      <td>9501</td>\n",
       "      <td>ИКГТ.745351.002</td>\n",
       "      <td>Планка. Чертеж детали</td>\n",
       "      <td>NaN</td>\n",
       "      <td>NaN</td>\n",
       "      <td>ПКО</td>\n",
       "      <td>NaN</td>\n",
       "      <td>1.0</td>\n",
       "    </tr>\n",
       "    <tr>\n",
       "      <td>9502</td>\n",
       "      <td>ИКГТ.741131.023</td>\n",
       "      <td>Планка. Чертеж детали</td>\n",
       "      <td>NaN</td>\n",
       "      <td>NaN</td>\n",
       "      <td>ПКО</td>\n",
       "      <td>NaN</td>\n",
       "      <td>1.0</td>\n",
       "    </tr>\n",
       "    <tr>\n",
       "      <td>9503</td>\n",
       "      <td>ИКГТ.713161.002</td>\n",
       "      <td>Втулка.Чертеж детали</td>\n",
       "      <td>NaN</td>\n",
       "      <td>NaN</td>\n",
       "      <td>ПКО</td>\n",
       "      <td>NaN</td>\n",
       "      <td>1.0</td>\n",
       "    </tr>\n",
       "    <tr>\n",
       "      <td>9504</td>\n",
       "      <td>ИКГТ.741532.015</td>\n",
       "      <td>Подкладка.Чертеж детали</td>\n",
       "      <td>NaN</td>\n",
       "      <td>NaN</td>\n",
       "      <td>ПКО</td>\n",
       "      <td>NaN</td>\n",
       "      <td>1.0</td>\n",
       "    </tr>\n",
       "    <tr>\n",
       "      <td>9505</td>\n",
       "      <td>ИКГТ.741128.179</td>\n",
       "      <td>Рама. Чертеж детали</td>\n",
       "      <td>NaN</td>\n",
       "      <td>NaN</td>\n",
       "      <td>ПКО</td>\n",
       "      <td>NaN</td>\n",
       "      <td>1.0</td>\n",
       "    </tr>\n",
       "    <tr>\n",
       "      <td>9506</td>\n",
       "      <td>ИКГТ.741124.830</td>\n",
       "      <td>Стекло. Чертеж детали</td>\n",
       "      <td>NaN</td>\n",
       "      <td>NaN</td>\n",
       "      <td>ПКО</td>\n",
       "      <td>NaN</td>\n",
       "      <td>1.0</td>\n",
       "    </tr>\n",
       "    <tr>\n",
       "      <td>9507</td>\n",
       "      <td>ИКГТ.745428.004</td>\n",
       "      <td>Петля. Чертеж детали</td>\n",
       "      <td>NaN</td>\n",
       "      <td>NaN</td>\n",
       "      <td>ПКО</td>\n",
       "      <td>NaN</td>\n",
       "      <td>1.0</td>\n",
       "    </tr>\n",
       "    <tr>\n",
       "      <td>9508</td>\n",
       "      <td>ИКГТ.745512.113</td>\n",
       "      <td>Панель. Чертеж детали</td>\n",
       "      <td>NaN</td>\n",
       "      <td>NaN</td>\n",
       "      <td>ПКО</td>\n",
       "      <td>NaN</td>\n",
       "      <td>1.0</td>\n",
       "    </tr>\n",
       "    <tr>\n",
       "      <td>9513</td>\n",
       "      <td>ИКГТ.30136 12</td>\n",
       "      <td>Комплекс \"Агенты управления\". Текст программы</td>\n",
       "      <td>23410.0</td>\n",
       "      <td>NaN</td>\n",
       "      <td>НТЦ ИКС НК</td>\n",
       "      <td>NaN</td>\n",
       "      <td>NaN</td>\n",
       "    </tr>\n",
       "    <tr>\n",
       "      <td>9514</td>\n",
       "      <td>ИКГТ.50207 12</td>\n",
       "      <td>Компонент «Сервер конфигураций». Текст программы</td>\n",
       "      <td>8780.0</td>\n",
       "      <td>NaN</td>\n",
       "      <td>НТЦ ИКС НК</td>\n",
       "      <td>NaN</td>\n",
       "      <td>NaN</td>\n",
       "    </tr>\n",
       "    <tr>\n",
       "      <td>9515</td>\n",
       "      <td>ИКГТ.50208 12</td>\n",
       "      <td>Компонент «Сервер управления». Текст программы</td>\n",
       "      <td>4050.0</td>\n",
       "      <td>NaN</td>\n",
       "      <td>НТЦ ИКС НК</td>\n",
       "      <td>NaN</td>\n",
       "      <td>NaN</td>\n",
       "    </tr>\n",
       "    <tr>\n",
       "      <td>9516</td>\n",
       "      <td>ИКГТ.50210 12</td>\n",
       "      <td>Компонент «Радиоданные». Текст программы</td>\n",
       "      <td>3410.0</td>\n",
       "      <td>NaN</td>\n",
       "      <td>НТЦ ИКС НК</td>\n",
       "      <td>NaN</td>\n",
       "      <td>NaN</td>\n",
       "    </tr>\n",
       "    <tr>\n",
       "      <td>9517</td>\n",
       "      <td>ИГКТ.50211 12</td>\n",
       "      <td>Компонент «Сервер безопасности и авторизации»....</td>\n",
       "      <td>3720.0</td>\n",
       "      <td>NaN</td>\n",
       "      <td>НТЦ ИКС НК</td>\n",
       "      <td>NaN</td>\n",
       "      <td>NaN</td>\n",
       "    </tr>\n",
       "    <tr>\n",
       "      <td>9518</td>\n",
       "      <td>ИГКТ.50212 12</td>\n",
       "      <td>Компонент «Терминал управления». Текст программы</td>\n",
       "      <td>17865.0</td>\n",
       "      <td>NaN</td>\n",
       "      <td>НТЦ ИКС НК</td>\n",
       "      <td>NaN</td>\n",
       "      <td>NaN</td>\n",
       "    </tr>\n",
       "    <tr>\n",
       "      <td>9519</td>\n",
       "      <td>ИГКТ.50213 12</td>\n",
       "      <td>Компонент «Терминал радиоданных». Текст программы</td>\n",
       "      <td>11520.0</td>\n",
       "      <td>NaN</td>\n",
       "      <td>НТЦ ИКС НК</td>\n",
       "      <td>NaN</td>\n",
       "      <td>NaN</td>\n",
       "    </tr>\n",
       "    <tr>\n",
       "      <td>9520</td>\n",
       "      <td>ИГКТ.50214 12</td>\n",
       "      <td>Компонент «Терминал администратора безопасност...</td>\n",
       "      <td>14010.0</td>\n",
       "      <td>NaN</td>\n",
       "      <td>НТЦ ИКС НК</td>\n",
       "      <td>NaN</td>\n",
       "      <td>NaN</td>\n",
       "    </tr>\n",
       "  </tbody>\n",
       "</table>\n",
       "</div>"
      ],
      "text/plain": [
       "     Обозначение документа                             Наименование документа  \\\n",
       "9497       ИКГТ.755223.002                               Уголок.Чертеж детали   \n",
       "9498       ИКГТ.758491.020                               Втулка.Чертеж детали   \n",
       "9499       ИКГТ.753161.003                               Втулка.Чертеж детали   \n",
       "9500       ИКГТ.713312.001                             Штемпель.Чертеж детали   \n",
       "9501       ИКГТ.745351.002                              Планка. Чертеж детали   \n",
       "9502       ИКГТ.741131.023                              Планка. Чертеж детали   \n",
       "9503       ИКГТ.713161.002                               Втулка.Чертеж детали   \n",
       "9504       ИКГТ.741532.015                            Подкладка.Чертеж детали   \n",
       "9505       ИКГТ.741128.179                                Рама. Чертеж детали   \n",
       "9506       ИКГТ.741124.830                              Стекло. Чертеж детали   \n",
       "9507       ИКГТ.745428.004                               Петля. Чертеж детали   \n",
       "9508       ИКГТ.745512.113                              Панель. Чертеж детали   \n",
       "9513         ИКГТ.30136 12      Комплекс \"Агенты управления\". Текст программы   \n",
       "9514         ИКГТ.50207 12   Компонент «Сервер конфигураций». Текст программы   \n",
       "9515         ИКГТ.50208 12     Компонент «Сервер управления». Текст программы   \n",
       "9516         ИКГТ.50210 12           Компонент «Радиоданные». Текст программы   \n",
       "9517         ИГКТ.50211 12  Компонент «Сервер безопасности и авторизации»....   \n",
       "9518         ИГКТ.50212 12   Компонент «Терминал управления». Текст программы   \n",
       "9519         ИГКТ.50213 12  Компонент «Терминал радиоданных». Текст программы   \n",
       "9520         ИГКТ.50214 12  Компонент «Терминал администратора безопасност...   \n",
       "\n",
       "      Кол-во листов А4  Готовность документа Подразделение Разработчик  \\\n",
       "9497                NaN                  NaN           ПКО         NaN   \n",
       "9498                NaN                  NaN           ПКО         NaN   \n",
       "9499                NaN                  NaN           ПКО         NaN   \n",
       "9500                NaN                  NaN           ПКО         NaN   \n",
       "9501                NaN                  NaN           ПКО         NaN   \n",
       "9502                NaN                  NaN           ПКО         NaN   \n",
       "9503                NaN                  NaN           ПКО         NaN   \n",
       "9504                NaN                  NaN           ПКО         NaN   \n",
       "9505                NaN                  NaN           ПКО         NaN   \n",
       "9506                NaN                  NaN           ПКО         NaN   \n",
       "9507                NaN                  NaN           ПКО         NaN   \n",
       "9508                NaN                  NaN           ПКО         NaN   \n",
       "9513            23410.0                  NaN    НТЦ ИКС НК         NaN   \n",
       "9514             8780.0                  NaN    НТЦ ИКС НК         NaN   \n",
       "9515             4050.0                  NaN    НТЦ ИКС НК         NaN   \n",
       "9516             3410.0                  NaN    НТЦ ИКС НК         NaN   \n",
       "9517             3720.0                  NaN    НТЦ ИКС НК         NaN   \n",
       "9518            17865.0                  NaN    НТЦ ИКС НК         NaN   \n",
       "9519            11520.0                  NaN    НТЦ ИКС НК         NaN   \n",
       "9520            14010.0                  NaN    НТЦ ИКС НК         NaN   \n",
       "\n",
       "      Метка готовности  \n",
       "9497               1.0  \n",
       "9498               1.0  \n",
       "9499               1.0  \n",
       "9500               1.0  \n",
       "9501               1.0  \n",
       "9502               1.0  \n",
       "9503               1.0  \n",
       "9504               1.0  \n",
       "9505               1.0  \n",
       "9506               1.0  \n",
       "9507               1.0  \n",
       "9508               1.0  \n",
       "9513               NaN  \n",
       "9514               NaN  \n",
       "9515               NaN  \n",
       "9516               NaN  \n",
       "9517               NaN  \n",
       "9518               NaN  \n",
       "9519               NaN  \n",
       "9520               NaN  "
      ]
     },
     "execution_count": 9,
     "metadata": {},
     "output_type": "execute_result"
    }
   ],
   "source": [
    "data = data[~(data['Обозначение документа'].isnull() | (data['Подразделение'].isnull() & data['Кол-во листов А4 '].isnull()))]\n",
    "data.tail(20) # отобразить последние 20 строк в таблице"
   ]
  },
  {
   "cell_type": "code",
   "execution_count": 10,
   "metadata": {},
   "outputs": [
    {
     "data": {
      "text/plain": [
       "(8584, 7)"
      ]
     },
     "execution_count": 10,
     "metadata": {},
     "output_type": "execute_result"
    }
   ],
   "source": [
    "data.shape"
   ]
  },
  {
   "cell_type": "markdown",
   "metadata": {},
   "source": [
    "## 1.3 Исправляем неправильно написанные фамилии и подразделения"
   ]
  },
  {
   "cell_type": "markdown",
   "metadata": {},
   "source": [
    "### 1.3.1 Исправление неправильных фамилий"
   ]
  },
  {
   "cell_type": "markdown",
   "metadata": {},
   "source": [
    "Сделаем выборку всех уникальных значений в колонке 'Разработчик'"
   ]
  },
  {
   "cell_type": "code",
   "execution_count": 11,
   "metadata": {},
   "outputs": [
    {
     "data": {
      "text/plain": [
       "1          Петухова\n",
       "4               NaN\n",
       "8          Русанцов\n",
       "20           Бычков\n",
       "21          Паскина\n",
       "27       Храковский\n",
       "33      Варфоломеев\n",
       "246          Лившиц\n",
       "2059          Попик\n",
       "2091       Матюшков\n",
       "3388      Русанцов \n",
       "3741         Попик \n",
       "6391     Тропников \n",
       "9356      Петухова \n",
       "Name: Разработчик, dtype: object"
      ]
     },
     "execution_count": 11,
     "metadata": {},
     "output_type": "execute_result"
    }
   ],
   "source": [
    "data['Разработчик'].drop_duplicates()"
   ]
  },
  {
   "cell_type": "markdown",
   "metadata": {},
   "source": [
    "Из вывода видно, что есть отсутствующие значения и не единообразное заполнение ячеек."
   ]
  },
  {
   "cell_type": "markdown",
   "metadata": {},
   "source": [
    "Заменим все NaN значение на \"Не указан\""
   ]
  },
  {
   "cell_type": "code",
   "execution_count": 12,
   "metadata": {},
   "outputs": [],
   "source": [
    "data.loc[data['Разработчик'].isnull(), 'Разработчик'] = 'Не указан'"
   ]
  },
  {
   "cell_type": "code",
   "execution_count": 13,
   "metadata": {},
   "outputs": [
    {
     "data": {
      "text/plain": [
       "1          Петухова\n",
       "4         Не указан\n",
       "8          Русанцов\n",
       "20           Бычков\n",
       "21          Паскина\n",
       "27       Храковский\n",
       "33      Варфоломеев\n",
       "246          Лившиц\n",
       "2059          Попик\n",
       "2091       Матюшков\n",
       "3388      Русанцов \n",
       "3741         Попик \n",
       "6391     Тропников \n",
       "9356      Петухова \n",
       "Name: Разработчик, dtype: object"
      ]
     },
     "execution_count": 13,
     "metadata": {},
     "output_type": "execute_result"
    }
   ],
   "source": [
    "# Проверка\n",
    "data['Разработчик'].drop_duplicates()"
   ]
  },
  {
   "cell_type": "markdown",
   "metadata": {},
   "source": [
    "Аналогичным образом приведем написание фамилий к единообразию"
   ]
  },
  {
   "cell_type": "code",
   "execution_count": 14,
   "metadata": {
    "scrolled": true
   },
   "outputs": [
    {
     "name": "stderr",
     "output_type": "stream",
     "text": [
      "c:\\users\\rusancovs\\appdata\\local\\programs\\python\\python37\\lib\\site-packages\\pandas\\core\\strings.py:1843: UserWarning: This pattern has match groups. To actually get the groups, use str.extract.\n",
      "  return func(self, *args, **kwargs)\n"
     ]
    },
    {
     "data": {
      "text/plain": [
       "1          Петухова\n",
       "4         Не указан\n",
       "8          Русанцов\n",
       "20           Бычков\n",
       "21          Паскина\n",
       "27       Храковский\n",
       "33      Варфоломеев\n",
       "246          Лившиц\n",
       "2059          Попик\n",
       "2091       Матюшков\n",
       "6391      Тропников\n",
       "Name: Разработчик, dtype: object"
      ]
     },
     "execution_count": 14,
     "metadata": {},
     "output_type": "execute_result"
    }
   ],
   "source": [
    "# Исправим сразу для всех\n",
    "ntc = ['Русанцов', 'Паскина', 'Молчанова', 'Лившиц', 'Петухова', \n",
    "       'Тропников', 'Попик', 'Варфоломеев', 'Храковский', 'Матюшков', \n",
    "       'Бычков', 'Зозуля', 'Полковников', 'Кавинский', 'Щепетин']\n",
    "for i in ntc:\n",
    "    res = '(' + i[:4] + ')'+'+'\n",
    "    data.loc[(data['Разработчик'].str.contains(res)), 'Разработчик'] = i\n",
    "\n",
    "# проверка\n",
    "data['Разработчик'].drop_duplicates()"
   ]
  },
  {
   "cell_type": "code",
   "execution_count": 15,
   "metadata": {},
   "outputs": [
    {
     "data": {
      "text/html": [
       "<div>\n",
       "<style scoped>\n",
       "    .dataframe tbody tr th:only-of-type {\n",
       "        vertical-align: middle;\n",
       "    }\n",
       "\n",
       "    .dataframe tbody tr th {\n",
       "        vertical-align: top;\n",
       "    }\n",
       "\n",
       "    .dataframe thead th {\n",
       "        text-align: right;\n",
       "    }\n",
       "</style>\n",
       "<table border=\"1\" class=\"dataframe\">\n",
       "  <thead>\n",
       "    <tr style=\"text-align: right;\">\n",
       "      <th></th>\n",
       "      <th>Обозначение документа</th>\n",
       "      <th>Наименование документа</th>\n",
       "      <th>Кол-во листов А4</th>\n",
       "      <th>Готовность документа</th>\n",
       "      <th>Подразделение</th>\n",
       "      <th>Разработчик</th>\n",
       "      <th>Метка готовности</th>\n",
       "    </tr>\n",
       "  </thead>\n",
       "  <tbody>\n",
       "    <tr>\n",
       "      <td>1</td>\n",
       "      <td>ИКГТ.461273.052ВЭ</td>\n",
       "      <td>АКС Р-779-16. Ведомость эксплуатационных докум...</td>\n",
       "      <td>3.0</td>\n",
       "      <td>Готов</td>\n",
       "      <td>НТЦ ИКС НК</td>\n",
       "      <td>Петухова</td>\n",
       "      <td>0.0</td>\n",
       "    </tr>\n",
       "    <tr>\n",
       "      <td>2</td>\n",
       "      <td>ИКГТ.461273.052ВЭ-ЛУ</td>\n",
       "      <td>АКС Р-779-16. Ведомость эксплуатационных докум...</td>\n",
       "      <td>2.0</td>\n",
       "      <td>Готов</td>\n",
       "      <td>НТЦ ИКС НК</td>\n",
       "      <td>Петухова</td>\n",
       "      <td>0.0</td>\n",
       "    </tr>\n",
       "    <tr>\n",
       "      <td>4</td>\n",
       "      <td>ИКГТ.461273.052</td>\n",
       "      <td>АКС Р-779-16. Спецификация</td>\n",
       "      <td>182.0</td>\n",
       "      <td>В разработке</td>\n",
       "      <td>ПКО</td>\n",
       "      <td>Не указан</td>\n",
       "      <td>0.0</td>\n",
       "    </tr>\n",
       "    <tr>\n",
       "      <td>5</td>\n",
       "      <td>ИКГТ.461273.052Э4</td>\n",
       "      <td>АКС Р-779-16. Схема электрическая соединений</td>\n",
       "      <td>182.0</td>\n",
       "      <td>Готов</td>\n",
       "      <td>НТЦ ИКС НК</td>\n",
       "      <td>Петухова</td>\n",
       "      <td>0.0</td>\n",
       "    </tr>\n",
       "    <tr>\n",
       "      <td>6</td>\n",
       "      <td>ИКГТ.461273.052ТЭ4, ИКГТ.461273.052ТЭ41</td>\n",
       "      <td>АКС Р-779-16. Таблица соединений</td>\n",
       "      <td>1042.0</td>\n",
       "      <td>Готов</td>\n",
       "      <td>НТЦ ИКС НК</td>\n",
       "      <td>Петухова</td>\n",
       "      <td>0.0</td>\n",
       "    </tr>\n",
       "  </tbody>\n",
       "</table>\n",
       "</div>"
      ],
      "text/plain": [
       "                     Обозначение документа  \\\n",
       "1                        ИКГТ.461273.052ВЭ   \n",
       "2                     ИКГТ.461273.052ВЭ-ЛУ   \n",
       "4                          ИКГТ.461273.052   \n",
       "5                        ИКГТ.461273.052Э4   \n",
       "6  ИКГТ.461273.052ТЭ4, ИКГТ.461273.052ТЭ41   \n",
       "\n",
       "                              Наименование документа  Кол-во листов А4   \\\n",
       "1  АКС Р-779-16. Ведомость эксплуатационных докум...                3.0   \n",
       "2  АКС Р-779-16. Ведомость эксплуатационных докум...                2.0   \n",
       "4                         АКС Р-779-16. Спецификация              182.0   \n",
       "5       АКС Р-779-16. Схема электрическая соединений              182.0   \n",
       "6                   АКС Р-779-16. Таблица соединений             1042.0   \n",
       "\n",
       "  Готовность документа Подразделение Разработчик  Метка готовности  \n",
       "1                Готов    НТЦ ИКС НК    Петухова               0.0  \n",
       "2                Готов    НТЦ ИКС НК    Петухова               0.0  \n",
       "4         В разработке           ПКО   Не указан               0.0  \n",
       "5                Готов    НТЦ ИКС НК    Петухова               0.0  \n",
       "6                Готов    НТЦ ИКС НК    Петухова               0.0  "
      ]
     },
     "execution_count": 15,
     "metadata": {},
     "output_type": "execute_result"
    }
   ],
   "source": [
    "data.head()"
   ]
  },
  {
   "cell_type": "markdown",
   "metadata": {},
   "source": [
    "### 1.3.2 Приведем название подразделений к единообразию"
   ]
  },
  {
   "cell_type": "code",
   "execution_count": 16,
   "metadata": {},
   "outputs": [
    {
     "data": {
      "text/plain": [
       "1            НТЦ ИКС НК\n",
       "4                   ПКО\n",
       "54                  NaN\n",
       "56     Серийное изделие\n",
       "263                ПКО \n",
       "332         НТЦ ИКС НК \n",
       "355               РиМАП\n",
       "764               РИМАП\n",
       "Name: Подразделение, dtype: object"
      ]
     },
     "execution_count": 16,
     "metadata": {},
     "output_type": "execute_result"
    }
   ],
   "source": [
    "# Проверка\n",
    "data['Подразделение'].drop_duplicates()"
   ]
  },
  {
   "cell_type": "code",
   "execution_count": 17,
   "metadata": {},
   "outputs": [],
   "source": [
    "# изменим NaN значения на \"Не указано\"\n",
    "data.loc[data['Подразделение'].isnull(), 'Подразделение'] = 'Не указано'"
   ]
  },
  {
   "cell_type": "code",
   "execution_count": 18,
   "metadata": {},
   "outputs": [
    {
     "name": "stdout",
     "output_type": "stream",
     "text": [
      "(8584, 7)\n"
     ]
    },
    {
     "data": {
      "text/plain": [
       "1            НТЦ ИКС НК\n",
       "4                   ПКО\n",
       "54           Не указано\n",
       "56     Серийное изделие\n",
       "263                ПКО \n",
       "332         НТЦ ИКС НК \n",
       "355               РиМАП\n",
       "764               РИМАП\n",
       "Name: Подразделение, dtype: object"
      ]
     },
     "execution_count": 18,
     "metadata": {},
     "output_type": "execute_result"
    }
   ],
   "source": [
    "print(data.shape)\n",
    "data['Подразделение'].drop_duplicates()"
   ]
  },
  {
   "cell_type": "code",
   "execution_count": 19,
   "metadata": {},
   "outputs": [
    {
     "data": {
      "text/plain": [
       "1            НТЦ ИКС НК\n",
       "4                   ПКО\n",
       "54           Не указано\n",
       "56     Серийное изделие\n",
       "355               РИМАП\n",
       "Name: Подразделение, dtype: object"
      ]
     },
     "execution_count": 19,
     "metadata": {},
     "output_type": "execute_result"
    }
   ],
   "source": [
    "# Исправим сразу для всех\n",
    "rio = ['НТЦ ИКС НК', 'ПКО', 'РИМАП', 'Серийное изделие']\n",
    "for i in rio:\n",
    "    res = '(' + i[-2:] + ')'+'+'\n",
    "    data.loc[(data['Подразделение'].str.contains(res)), 'Подразделение'] = i\n",
    "\n",
    "# проверка\n",
    "data['Подразделение'].drop_duplicates()"
   ]
  },
  {
   "cell_type": "markdown",
   "metadata": {},
   "source": [
    "### 1.3.3 Удалим все строки, не относящиеся к НТЦ ИКС и не имеющие метки о готовности"
   ]
  },
  {
   "cell_type": "code",
   "execution_count": 20,
   "metadata": {},
   "outputs": [
    {
     "data": {
      "text/plain": [
       "(881, 7)"
      ]
     },
     "execution_count": 20,
     "metadata": {},
     "output_type": "execute_result"
    }
   ],
   "source": [
    "data = data[(data['Подразделение']=='НТЦ ИКС НК')&~(data['Метка готовности'].isnull())]\n",
    "data.shape"
   ]
  },
  {
   "cell_type": "markdown",
   "metadata": {},
   "source": [
    "### 1.3.4 Удалим значения NaN для остальных столбцов"
   ]
  },
  {
   "cell_type": "code",
   "execution_count": 21,
   "metadata": {},
   "outputs": [],
   "source": [
    "data.loc[data['Наименование документа'].isnull(), 'Наименование документа'] = '---'\n",
    "data.loc[data['Готовность документа'].isnull(), 'Готовность документа'] = 'Не указано'"
   ]
  },
  {
   "cell_type": "code",
   "execution_count": 22,
   "metadata": {},
   "outputs": [
    {
     "data": {
      "text/html": [
       "<div>\n",
       "<style scoped>\n",
       "    .dataframe tbody tr th:only-of-type {\n",
       "        vertical-align: middle;\n",
       "    }\n",
       "\n",
       "    .dataframe tbody tr th {\n",
       "        vertical-align: top;\n",
       "    }\n",
       "\n",
       "    .dataframe thead th {\n",
       "        text-align: right;\n",
       "    }\n",
       "</style>\n",
       "<table border=\"1\" class=\"dataframe\">\n",
       "  <thead>\n",
       "    <tr style=\"text-align: right;\">\n",
       "      <th></th>\n",
       "      <th>Обозначение документа</th>\n",
       "      <th>Наименование документа</th>\n",
       "      <th>Кол-во листов А4</th>\n",
       "      <th>Готовность документа</th>\n",
       "      <th>Подразделение</th>\n",
       "      <th>Разработчик</th>\n",
       "      <th>Метка готовности</th>\n",
       "    </tr>\n",
       "  </thead>\n",
       "  <tbody>\n",
       "    <tr>\n",
       "      <td>1</td>\n",
       "      <td>ИКГТ.461273.052ВЭ</td>\n",
       "      <td>АКС Р-779-16. Ведомость эксплуатационных докум...</td>\n",
       "      <td>3</td>\n",
       "      <td>Готов</td>\n",
       "      <td>НТЦ ИКС НК</td>\n",
       "      <td>Петухова</td>\n",
       "      <td>0.0</td>\n",
       "    </tr>\n",
       "    <tr>\n",
       "      <td>2</td>\n",
       "      <td>ИКГТ.461273.052ВЭ-ЛУ</td>\n",
       "      <td>АКС Р-779-16. Ведомость эксплуатационных докум...</td>\n",
       "      <td>2</td>\n",
       "      <td>Готов</td>\n",
       "      <td>НТЦ ИКС НК</td>\n",
       "      <td>Петухова</td>\n",
       "      <td>0.0</td>\n",
       "    </tr>\n",
       "    <tr>\n",
       "      <td>5</td>\n",
       "      <td>ИКГТ.461273.052Э4</td>\n",
       "      <td>АКС Р-779-16. Схема электрическая соединений</td>\n",
       "      <td>182</td>\n",
       "      <td>Готов</td>\n",
       "      <td>НТЦ ИКС НК</td>\n",
       "      <td>Петухова</td>\n",
       "      <td>0.0</td>\n",
       "    </tr>\n",
       "    <tr>\n",
       "      <td>6</td>\n",
       "      <td>ИКГТ.461273.052ТЭ4, ИКГТ.461273.052ТЭ41</td>\n",
       "      <td>АКС Р-779-16. Таблица соединений</td>\n",
       "      <td>1042</td>\n",
       "      <td>Готов</td>\n",
       "      <td>НТЦ ИКС НК</td>\n",
       "      <td>Петухова</td>\n",
       "      <td>0.0</td>\n",
       "    </tr>\n",
       "    <tr>\n",
       "      <td>7</td>\n",
       "      <td>ИКГТ.461273.052ПЭ4</td>\n",
       "      <td>АКС Р-779-16. Перечень элементов</td>\n",
       "      <td>39</td>\n",
       "      <td>Готов</td>\n",
       "      <td>НТЦ ИКС НК</td>\n",
       "      <td>Петухова</td>\n",
       "      <td>0.0</td>\n",
       "    </tr>\n",
       "    <tr>\n",
       "      <td>...</td>\n",
       "      <td>...</td>\n",
       "      <td>...</td>\n",
       "      <td>...</td>\n",
       "      <td>...</td>\n",
       "      <td>...</td>\n",
       "      <td>...</td>\n",
       "      <td>...</td>\n",
       "    </tr>\n",
       "    <tr>\n",
       "      <td>9375</td>\n",
       "      <td>Инв. №19842</td>\n",
       "      <td>Протокол периодических испытаний</td>\n",
       "      <td>2</td>\n",
       "      <td>Не указано</td>\n",
       "      <td>НТЦ ИКС НК</td>\n",
       "      <td>Петухова</td>\n",
       "      <td>1.0</td>\n",
       "    </tr>\n",
       "    <tr>\n",
       "      <td>9461</td>\n",
       "      <td>ИКГТ.685621.160Э3</td>\n",
       "      <td>Жгут ИБП. Схема электрическая принципиальная</td>\n",
       "      <td>1</td>\n",
       "      <td>Не указано</td>\n",
       "      <td>НТЦ ИКС НК</td>\n",
       "      <td>Петухова</td>\n",
       "      <td>1.0</td>\n",
       "    </tr>\n",
       "    <tr>\n",
       "      <td>9467</td>\n",
       "      <td>ИКГТ.685621.161Э3</td>\n",
       "      <td>Жгут Eth2. Схема электрическая принципиальная</td>\n",
       "      <td>1</td>\n",
       "      <td>Не указано</td>\n",
       "      <td>НТЦ ИКС НК</td>\n",
       "      <td>Петухова</td>\n",
       "      <td>1.0</td>\n",
       "    </tr>\n",
       "    <tr>\n",
       "      <td>9472</td>\n",
       "      <td>ИКГТ.685621.162Э3</td>\n",
       "      <td>Жгут Звук. Схема электрическая принципиальная</td>\n",
       "      <td>1</td>\n",
       "      <td>Не указано</td>\n",
       "      <td>НТЦ ИКС НК</td>\n",
       "      <td>Петухова</td>\n",
       "      <td>1.0</td>\n",
       "    </tr>\n",
       "    <tr>\n",
       "      <td>9476</td>\n",
       "      <td>ИКГТ.685622.092Э3</td>\n",
       "      <td>Жгут Eth1. Схема электрическая принципиальная</td>\n",
       "      <td>1</td>\n",
       "      <td>Не указано</td>\n",
       "      <td>НТЦ ИКС НК</td>\n",
       "      <td>Петухова</td>\n",
       "      <td>1.0</td>\n",
       "    </tr>\n",
       "  </tbody>\n",
       "</table>\n",
       "<p>881 rows × 7 columns</p>\n",
       "</div>"
      ],
      "text/plain": [
       "                        Обозначение документа  \\\n",
       "1                           ИКГТ.461273.052ВЭ   \n",
       "2                        ИКГТ.461273.052ВЭ-ЛУ   \n",
       "5                           ИКГТ.461273.052Э4   \n",
       "6     ИКГТ.461273.052ТЭ4, ИКГТ.461273.052ТЭ41   \n",
       "7                          ИКГТ.461273.052ПЭ4   \n",
       "...                                       ...   \n",
       "9375                              Инв. №19842   \n",
       "9461                        ИКГТ.685621.160Э3   \n",
       "9467                        ИКГТ.685621.161Э3   \n",
       "9472                        ИКГТ.685621.162Э3   \n",
       "9476                        ИКГТ.685622.092Э3   \n",
       "\n",
       "                                 Наименование документа Кол-во листов А4   \\\n",
       "1     АКС Р-779-16. Ведомость эксплуатационных докум...                 3   \n",
       "2     АКС Р-779-16. Ведомость эксплуатационных докум...                 2   \n",
       "5          АКС Р-779-16. Схема электрическая соединений               182   \n",
       "6                      АКС Р-779-16. Таблица соединений              1042   \n",
       "7                      АКС Р-779-16. Перечень элементов                39   \n",
       "...                                                 ...               ...   \n",
       "9375                   Протокол периодических испытаний                 2   \n",
       "9461       Жгут ИБП. Схема электрическая принципиальная                 1   \n",
       "9467      Жгут Eth2. Схема электрическая принципиальная                 1   \n",
       "9472      Жгут Звук. Схема электрическая принципиальная                 1   \n",
       "9476      Жгут Eth1. Схема электрическая принципиальная                 1   \n",
       "\n",
       "     Готовность документа Подразделение Разработчик  Метка готовности  \n",
       "1                   Готов    НТЦ ИКС НК    Петухова               0.0  \n",
       "2                   Готов    НТЦ ИКС НК    Петухова               0.0  \n",
       "5                   Готов    НТЦ ИКС НК    Петухова               0.0  \n",
       "6                   Готов    НТЦ ИКС НК    Петухова               0.0  \n",
       "7                   Готов    НТЦ ИКС НК    Петухова               0.0  \n",
       "...                   ...           ...         ...               ...  \n",
       "9375           Не указано    НТЦ ИКС НК    Петухова               1.0  \n",
       "9461           Не указано    НТЦ ИКС НК    Петухова               1.0  \n",
       "9467           Не указано    НТЦ ИКС НК    Петухова               1.0  \n",
       "9472           Не указано    НТЦ ИКС НК    Петухова               1.0  \n",
       "9476           Не указано    НТЦ ИКС НК    Петухова               1.0  \n",
       "\n",
       "[881 rows x 7 columns]"
      ]
     },
     "execution_count": 22,
     "metadata": {},
     "output_type": "execute_result"
    }
   ],
   "source": [
    "data.loc[data['Кол-во листов А4 '].isnull(), 'Кол-во листов А4 '] = 'Не указано'\n",
    "data"
   ]
  },
  {
   "cell_type": "markdown",
   "metadata": {},
   "source": [
    "# Сводные таблицы "
   ]
  },
  {
   "cell_type": "markdown",
   "metadata": {},
   "source": [
    "## Сделаем анализ по всему НТЦ"
   ]
  },
  {
   "cell_type": "markdown",
   "metadata": {},
   "source": [
    "Определим названия колонок для сводной таблицы"
   ]
  },
  {
   "cell_type": "code",
   "execution_count": 23,
   "metadata": {},
   "outputs": [
    {
     "data": {
      "text/plain": [
       "1             Готов\n",
       "14       Не указано\n",
       "21     В разработке\n",
       "483            В ВП\n",
       "Name: Готовность документа, dtype: object"
      ]
     },
     "execution_count": 23,
     "metadata": {},
     "output_type": "execute_result"
    }
   ],
   "source": [
    "# Проверка однообразности заполнения колонки 'Готовность документов'\n",
    "data['Готовность документа'].drop_duplicates()"
   ]
  },
  {
   "cell_type": "code",
   "execution_count": 24,
   "metadata": {},
   "outputs": [],
   "source": [
    "columns = ['В разработке', 'В нормоконтроле', 'В ОТК', 'Готов', 'В ВП', 'Не указано', 'Подписано ВП']\n",
    "# добавим новые колонки и заполним их\n",
    "\n",
    "for i in columns[:-2]:\n",
    "    data[i] = 0\n",
    "    data.loc[data['Готовность документа'] == i, i] = 1\n",
    "for i in columns[-2:]:\n",
    "    data[i] = 0\n",
    "data.loc[(data['Готовность документа'] == 'Не указано') & (data['Метка готовности'].astype(int) == 0), 'Не указано'] = 1\n",
    "data.loc[(data['Готовность документа'] == 'Не указано') & (data['Метка готовности'].astype(int) == 1), 'Подписано ВП'] = 1\n",
    "    "
   ]
  },
  {
   "cell_type": "code",
   "execution_count": 25,
   "metadata": {},
   "outputs": [
    {
     "data": {
      "text/plain": [
       "В разработке        92\n",
       "В нормоконтроле      0\n",
       "В ОТК                0\n",
       "Готов              500\n",
       "В ВП                 2\n",
       "Не указано          26\n",
       "Подписано ВП       261\n",
       "dtype: int64"
      ]
     },
     "execution_count": 25,
     "metadata": {},
     "output_type": "execute_result"
    }
   ],
   "source": [
    "data[columns].sum() # сумма документам по добавленым колонкам"
   ]
  },
  {
   "cell_type": "code",
   "execution_count": 26,
   "metadata": {},
   "outputs": [
    {
     "data": {
      "text/html": [
       "<div>\n",
       "<style scoped>\n",
       "    .dataframe tbody tr th:only-of-type {\n",
       "        vertical-align: middle;\n",
       "    }\n",
       "\n",
       "    .dataframe tbody tr th {\n",
       "        vertical-align: top;\n",
       "    }\n",
       "\n",
       "    .dataframe thead th {\n",
       "        text-align: right;\n",
       "    }\n",
       "</style>\n",
       "<table border=\"1\" class=\"dataframe\">\n",
       "  <thead>\n",
       "    <tr style=\"text-align: right;\">\n",
       "      <th></th>\n",
       "      <th>В разработке</th>\n",
       "      <th>В нормоконтроле</th>\n",
       "      <th>В ОТК</th>\n",
       "      <th>Готов</th>\n",
       "      <th>В ВП</th>\n",
       "      <th>Не указано</th>\n",
       "      <th>Подписано ВП</th>\n",
       "    </tr>\n",
       "  </thead>\n",
       "  <tbody>\n",
       "    <tr>\n",
       "      <td>Всего, шт</td>\n",
       "      <td>92</td>\n",
       "      <td>0</td>\n",
       "      <td>0</td>\n",
       "      <td>500</td>\n",
       "      <td>2</td>\n",
       "      <td>26</td>\n",
       "      <td>261</td>\n",
       "    </tr>\n",
       "  </tbody>\n",
       "</table>\n",
       "</div>"
      ],
      "text/plain": [
       "           В разработке  В нормоконтроле  В ОТК  Готов  В ВП  Не указано  \\\n",
       "Всего, шт            92                0      0    500     2          26   \n",
       "\n",
       "           Подписано ВП  \n",
       "Всего, шт           261  "
      ]
     },
     "execution_count": 26,
     "metadata": {},
     "output_type": "execute_result"
    }
   ],
   "source": [
    "dataall = pd.DataFrame(index = ['Всего, шт'], columns=columns)\n",
    "for i in columns:\n",
    "    dataall[i] = data[i].sum()\n",
    "dataall"
   ]
  },
  {
   "cell_type": "markdown",
   "metadata": {},
   "source": [
    "## Сделаем анализ по сотрудникам"
   ]
  },
  {
   "cell_type": "code",
   "execution_count": 27,
   "metadata": {},
   "outputs": [
    {
     "data": {
      "text/html": [
       "<div>\n",
       "<style scoped>\n",
       "    .dataframe tbody tr th:only-of-type {\n",
       "        vertical-align: middle;\n",
       "    }\n",
       "\n",
       "    .dataframe tbody tr th {\n",
       "        vertical-align: top;\n",
       "    }\n",
       "\n",
       "    .dataframe thead th {\n",
       "        text-align: right;\n",
       "    }\n",
       "</style>\n",
       "<table border=\"1\" class=\"dataframe\">\n",
       "  <thead>\n",
       "    <tr style=\"text-align: right;\">\n",
       "      <th></th>\n",
       "      <th>Разработчик</th>\n",
       "      <th>В разработке</th>\n",
       "      <th>В нормоконтроле</th>\n",
       "      <th>В ОТК</th>\n",
       "      <th>Готов</th>\n",
       "      <th>В ВП</th>\n",
       "      <th>Не указано</th>\n",
       "      <th>Подписано ВП</th>\n",
       "    </tr>\n",
       "  </thead>\n",
       "  <tbody>\n",
       "    <tr>\n",
       "      <td>1</td>\n",
       "      <td>Петухова</td>\n",
       "      <td>0</td>\n",
       "      <td>0</td>\n",
       "      <td>0</td>\n",
       "      <td>1</td>\n",
       "      <td>0</td>\n",
       "      <td>0</td>\n",
       "      <td>0</td>\n",
       "    </tr>\n",
       "    <tr>\n",
       "      <td>2</td>\n",
       "      <td>Петухова</td>\n",
       "      <td>0</td>\n",
       "      <td>0</td>\n",
       "      <td>0</td>\n",
       "      <td>1</td>\n",
       "      <td>0</td>\n",
       "      <td>0</td>\n",
       "      <td>0</td>\n",
       "    </tr>\n",
       "    <tr>\n",
       "      <td>5</td>\n",
       "      <td>Петухова</td>\n",
       "      <td>0</td>\n",
       "      <td>0</td>\n",
       "      <td>0</td>\n",
       "      <td>1</td>\n",
       "      <td>0</td>\n",
       "      <td>0</td>\n",
       "      <td>0</td>\n",
       "    </tr>\n",
       "    <tr>\n",
       "      <td>6</td>\n",
       "      <td>Петухова</td>\n",
       "      <td>0</td>\n",
       "      <td>0</td>\n",
       "      <td>0</td>\n",
       "      <td>1</td>\n",
       "      <td>0</td>\n",
       "      <td>0</td>\n",
       "      <td>0</td>\n",
       "    </tr>\n",
       "    <tr>\n",
       "      <td>7</td>\n",
       "      <td>Петухова</td>\n",
       "      <td>0</td>\n",
       "      <td>0</td>\n",
       "      <td>0</td>\n",
       "      <td>1</td>\n",
       "      <td>0</td>\n",
       "      <td>0</td>\n",
       "      <td>0</td>\n",
       "    </tr>\n",
       "  </tbody>\n",
       "</table>\n",
       "</div>"
      ],
      "text/plain": [
       "  Разработчик  В разработке  В нормоконтроле  В ОТК  Готов  В ВП  Не указано  \\\n",
       "1    Петухова             0                0      0      1     0           0   \n",
       "2    Петухова             0                0      0      1     0           0   \n",
       "5    Петухова             0                0      0      1     0           0   \n",
       "6    Петухова             0                0      0      1     0           0   \n",
       "7    Петухова             0                0      0      1     0           0   \n",
       "\n",
       "   Подписано ВП  \n",
       "1             0  \n",
       "2             0  \n",
       "5             0  \n",
       "6             0  \n",
       "7             0  "
      ]
     },
     "execution_count": 27,
     "metadata": {},
     "output_type": "execute_result"
    }
   ],
   "source": [
    "columns = ['Разработчик','В разработке', 'В нормоконтроле', 'В ОТК', 'Готов', 'В ВП', 'Не указано', 'Подписано ВП']\n",
    "datantc = data[columns]\n",
    "datantc.head()"
   ]
  },
  {
   "cell_type": "code",
   "execution_count": 28,
   "metadata": {},
   "outputs": [],
   "source": [
    "# создадим сводную таблицу\n",
    "resultpodr = datantc.pivot_table(['В разработке', 'В нормоконтроле', 'В ОТК', 'Готов', 'В ВП', 'Не указано', 'Подписано ВП'], 'Разработчик', aggfunc=sum, margins=True, margins_name='Всего, шт' )"
   ]
  },
  {
   "cell_type": "code",
   "execution_count": 29,
   "metadata": {},
   "outputs": [
    {
     "data": {
      "text/html": [
       "<div>\n",
       "<style scoped>\n",
       "    .dataframe tbody tr th:only-of-type {\n",
       "        vertical-align: middle;\n",
       "    }\n",
       "\n",
       "    .dataframe tbody tr th {\n",
       "        vertical-align: top;\n",
       "    }\n",
       "\n",
       "    .dataframe thead th {\n",
       "        text-align: right;\n",
       "    }\n",
       "</style>\n",
       "<table border=\"1\" class=\"dataframe\">\n",
       "  <thead>\n",
       "    <tr style=\"text-align: right;\">\n",
       "      <th></th>\n",
       "      <th>В ВП</th>\n",
       "      <th>В ОТК</th>\n",
       "      <th>В нормоконтроле</th>\n",
       "      <th>В разработке</th>\n",
       "      <th>Готов</th>\n",
       "      <th>Не указано</th>\n",
       "      <th>Подписано ВП</th>\n",
       "      <th>Всего, шт</th>\n",
       "    </tr>\n",
       "    <tr>\n",
       "      <th>Разработчик</th>\n",
       "      <th></th>\n",
       "      <th></th>\n",
       "      <th></th>\n",
       "      <th></th>\n",
       "      <th></th>\n",
       "      <th></th>\n",
       "      <th></th>\n",
       "      <th></th>\n",
       "    </tr>\n",
       "  </thead>\n",
       "  <tbody>\n",
       "    <tr>\n",
       "      <td>Бычков</td>\n",
       "      <td>0</td>\n",
       "      <td>0</td>\n",
       "      <td>0</td>\n",
       "      <td>0</td>\n",
       "      <td>0</td>\n",
       "      <td>0</td>\n",
       "      <td>3</td>\n",
       "      <td>3</td>\n",
       "    </tr>\n",
       "    <tr>\n",
       "      <td>Варфоломеев</td>\n",
       "      <td>0</td>\n",
       "      <td>0</td>\n",
       "      <td>0</td>\n",
       "      <td>12</td>\n",
       "      <td>0</td>\n",
       "      <td>1</td>\n",
       "      <td>2</td>\n",
       "      <td>15</td>\n",
       "    </tr>\n",
       "    <tr>\n",
       "      <td>Лившиц</td>\n",
       "      <td>2</td>\n",
       "      <td>0</td>\n",
       "      <td>0</td>\n",
       "      <td>0</td>\n",
       "      <td>0</td>\n",
       "      <td>23</td>\n",
       "      <td>100</td>\n",
       "      <td>125</td>\n",
       "    </tr>\n",
       "    <tr>\n",
       "      <td>Матюшков</td>\n",
       "      <td>0</td>\n",
       "      <td>0</td>\n",
       "      <td>0</td>\n",
       "      <td>12</td>\n",
       "      <td>221</td>\n",
       "      <td>0</td>\n",
       "      <td>0</td>\n",
       "      <td>233</td>\n",
       "    </tr>\n",
       "    <tr>\n",
       "      <td>Не указан</td>\n",
       "      <td>0</td>\n",
       "      <td>0</td>\n",
       "      <td>0</td>\n",
       "      <td>10</td>\n",
       "      <td>9</td>\n",
       "      <td>2</td>\n",
       "      <td>3</td>\n",
       "      <td>24</td>\n",
       "    </tr>\n",
       "    <tr>\n",
       "      <td>Паскина</td>\n",
       "      <td>0</td>\n",
       "      <td>0</td>\n",
       "      <td>0</td>\n",
       "      <td>2</td>\n",
       "      <td>0</td>\n",
       "      <td>0</td>\n",
       "      <td>0</td>\n",
       "      <td>2</td>\n",
       "    </tr>\n",
       "    <tr>\n",
       "      <td>Петухова</td>\n",
       "      <td>0</td>\n",
       "      <td>0</td>\n",
       "      <td>0</td>\n",
       "      <td>0</td>\n",
       "      <td>16</td>\n",
       "      <td>0</td>\n",
       "      <td>33</td>\n",
       "      <td>49</td>\n",
       "    </tr>\n",
       "    <tr>\n",
       "      <td>Попик</td>\n",
       "      <td>0</td>\n",
       "      <td>0</td>\n",
       "      <td>0</td>\n",
       "      <td>16</td>\n",
       "      <td>80</td>\n",
       "      <td>0</td>\n",
       "      <td>0</td>\n",
       "      <td>96</td>\n",
       "    </tr>\n",
       "    <tr>\n",
       "      <td>Русанцов</td>\n",
       "      <td>0</td>\n",
       "      <td>0</td>\n",
       "      <td>0</td>\n",
       "      <td>36</td>\n",
       "      <td>146</td>\n",
       "      <td>0</td>\n",
       "      <td>0</td>\n",
       "      <td>182</td>\n",
       "    </tr>\n",
       "    <tr>\n",
       "      <td>Тропников</td>\n",
       "      <td>0</td>\n",
       "      <td>0</td>\n",
       "      <td>0</td>\n",
       "      <td>2</td>\n",
       "      <td>28</td>\n",
       "      <td>0</td>\n",
       "      <td>120</td>\n",
       "      <td>150</td>\n",
       "    </tr>\n",
       "    <tr>\n",
       "      <td>Храковский</td>\n",
       "      <td>0</td>\n",
       "      <td>0</td>\n",
       "      <td>0</td>\n",
       "      <td>2</td>\n",
       "      <td>0</td>\n",
       "      <td>0</td>\n",
       "      <td>0</td>\n",
       "      <td>2</td>\n",
       "    </tr>\n",
       "    <tr>\n",
       "      <td>Всего, шт</td>\n",
       "      <td>2</td>\n",
       "      <td>0</td>\n",
       "      <td>0</td>\n",
       "      <td>92</td>\n",
       "      <td>500</td>\n",
       "      <td>26</td>\n",
       "      <td>261</td>\n",
       "      <td>881</td>\n",
       "    </tr>\n",
       "  </tbody>\n",
       "</table>\n",
       "</div>"
      ],
      "text/plain": [
       "             В ВП  В ОТК  В нормоконтроле  В разработке  Готов  Не указано  \\\n",
       "Разработчик                                                                  \n",
       "Бычков          0      0                0             0      0           0   \n",
       "Варфоломеев     0      0                0            12      0           1   \n",
       "Лившиц          2      0                0             0      0          23   \n",
       "Матюшков        0      0                0            12    221           0   \n",
       "Не указан       0      0                0            10      9           2   \n",
       "Паскина         0      0                0             2      0           0   \n",
       "Петухова        0      0                0             0     16           0   \n",
       "Попик           0      0                0            16     80           0   \n",
       "Русанцов        0      0                0            36    146           0   \n",
       "Тропников       0      0                0             2     28           0   \n",
       "Храковский      0      0                0             2      0           0   \n",
       "Всего, шт       2      0                0            92    500          26   \n",
       "\n",
       "             Подписано ВП  Всего, шт  \n",
       "Разработчик                           \n",
       "Бычков                  3          3  \n",
       "Варфоломеев             2         15  \n",
       "Лившиц                100        125  \n",
       "Матюшков                0        233  \n",
       "Не указан               3         24  \n",
       "Паскина                 0          2  \n",
       "Петухова               33         49  \n",
       "Попик                   0         96  \n",
       "Русанцов                0        182  \n",
       "Тропников             120        150  \n",
       "Храковский              0          2  \n",
       "Всего, шт             261        881  "
      ]
     },
     "execution_count": 29,
     "metadata": {},
     "output_type": "execute_result"
    }
   ],
   "source": [
    "resultpodr['Всего, шт'] = resultpodr.sum(axis=1)\n",
    "resultpodr"
   ]
  },
  {
   "cell_type": "code",
   "execution_count": 30,
   "metadata": {},
   "outputs": [],
   "source": [
    "pathsv = 'Output\\\\' + date + '\\\\' # указать путь сохранения файла\n",
    "if not os.path.exists(pathsv):\n",
    "    os.makedirs(pathsv)    # создать директорию, если она не существует\n",
    "\n",
    "dataall.to_excel(pathsv + date + '_Все_документы_НТЦ' + '.xls', encoding='cp1251')# Таблица с общим количеством документов\n",
    "resultpodr.to_excel(pathsv + date + '_Все_документы_НТЦ_сотр' + '.xls', encoding='cp1251')# Таблица с общим количеством документов в процентах"
   ]
  },
  {
   "cell_type": "code",
   "execution_count": 31,
   "metadata": {},
   "outputs": [],
   "source": [
    "resultsns = datantc.pivot_table(['В разработке', 'В нормоконтроле', 'В ОТК', 'Готов', 'В ВП', 'Не указано', 'Подписано ВП'], 'Разработчик', aggfunc=sum)"
   ]
  },
  {
   "cell_type": "code",
   "execution_count": 32,
   "metadata": {
    "scrolled": false
   },
   "outputs": [
    {
     "data": {
      "image/png": "[encoded data removed]",
      "text/plain": [
       "<Figure size 1080x864 with 2 Axes>"
      ]
     },
     "metadata": {
      "needs_background": "light"
     },
     "output_type": "display_data"
    }
   ],
   "source": [
    "f, ax = plt.subplots(figsize=(15, 12))\n",
    "ax.set_title('Статус документов, разрабатываемых НТЦ ИКС НК на ' + date, fontsize=18, y=1.03)\n",
    "sns.heatmap(resultsns, annot=True, fmt=\"d\", ax=ax, center=-20, linewidths=.2)\n",
    "plt.savefig(pathsv + date + '_Все_документы_НТЦ_сотр.png');"
   ]
  }
 ],
 "metadata": {
  "kernelspec": {
   "display_name": "Python 3",
   "language": "python",
   "name": "python3"
  },
  "language_info": {
   "codemirror_mode": {
    "name": "ipython",
    "version": 3
   },
   "file_extension": ".py",
   "mimetype": "text/x-python",
   "name": "python",
   "nbconvert_exporter": "python",
   "pygments_lexer": "ipython3",
   "version": "3.7.4"
  }
 },
 "nbformat": 4,
 "nbformat_minor": 2
}
