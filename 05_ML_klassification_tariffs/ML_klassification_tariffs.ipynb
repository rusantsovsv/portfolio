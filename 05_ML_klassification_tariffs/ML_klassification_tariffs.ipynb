{
 "cells": [
  {
   "cell_type": "markdown",
   "metadata": {},
   "source": [
    "# Рекомендация тарифов"
   ]
  },
  {
   "cell_type": "markdown",
   "metadata": {},
   "source": [
    "Оператор мобильной связи «Мегалайн» выяснил: многие клиенты пользуются архивными тарифами. Требуется построить систему, способную проанализировать поведение клиентов и предложить пользователям новый тариф: «Смарт» или «Ультра».\n",
    "\n",
    "Задача: на основе данных о поведении клиентов, которые уже перешли на эти тарифы, построить модель для задачи классификации, которая выберет подходящий тариф.\n",
    "\n",
    "Цель: постройте модель с максимально большим значением *accuracy*. Чтобы сдать проект успешно, нужно довести долю правильных ответов по крайней мере до 0.75. Проверьте *accuracy* на тестовой выборке самостоятельно."
   ]
  },
  {
   "cell_type": "markdown",
   "metadata": {},
   "source": [
    "## 1. Откройте и изучите файл"
   ]
  },
  {
   "cell_type": "markdown",
   "metadata": {},
   "source": [
    "Подгрузим необходимые для выполнения задания библиотеки"
   ]
  },
  {
   "cell_type": "code",
   "execution_count": 1,
   "metadata": {},
   "outputs": [],
   "source": [
    "import pandas as pd\n",
    "import numpy as np\n",
    "from sklearn.model_selection import train_test_split\n",
    "from sklearn.linear_model import LogisticRegression\n",
    "from sklearn.ensemble import RandomForestClassifier\n",
    "from sklearn.tree import DecisionTreeClassifier\n",
    "from sklearn.metrics import accuracy_score\n",
    "\n",
    "random_st = 42 # определим начальное состояние генератора случайных чисел, будем использовать его в дальнейшем"
   ]
  },
  {
   "cell_type": "code",
   "execution_count": 2,
   "metadata": {},
   "outputs": [],
   "source": [
    "data = pd.read_csv('/datasets/users_behavior.csv')"
   ]
  },
  {
   "cell_type": "code",
   "execution_count": 3,
   "metadata": {},
   "outputs": [
    {
     "data": {
      "text/html": [
       "<div>\n",
       "<style scoped>\n",
       "    .dataframe tbody tr th:only-of-type {\n",
       "        vertical-align: middle;\n",
       "    }\n",
       "\n",
       "    .dataframe tbody tr th {\n",
       "        vertical-align: top;\n",
       "    }\n",
       "\n",
       "    .dataframe thead th {\n",
       "        text-align: right;\n",
       "    }\n",
       "</style>\n",
       "<table border=\"1\" class=\"dataframe\">\n",
       "  <thead>\n",
       "    <tr style=\"text-align: right;\">\n",
       "      <th></th>\n",
       "      <th>calls</th>\n",
       "      <th>minutes</th>\n",
       "      <th>messages</th>\n",
       "      <th>mb_used</th>\n",
       "      <th>is_ultra</th>\n",
       "    </tr>\n",
       "  </thead>\n",
       "  <tbody>\n",
       "    <tr>\n",
       "      <td>0</td>\n",
       "      <td>40.0</td>\n",
       "      <td>311.90</td>\n",
       "      <td>83.0</td>\n",
       "      <td>19915.42</td>\n",
       "      <td>0</td>\n",
       "    </tr>\n",
       "    <tr>\n",
       "      <td>1</td>\n",
       "      <td>85.0</td>\n",
       "      <td>516.75</td>\n",
       "      <td>56.0</td>\n",
       "      <td>22696.96</td>\n",
       "      <td>0</td>\n",
       "    </tr>\n",
       "    <tr>\n",
       "      <td>2</td>\n",
       "      <td>77.0</td>\n",
       "      <td>467.66</td>\n",
       "      <td>86.0</td>\n",
       "      <td>21060.45</td>\n",
       "      <td>0</td>\n",
       "    </tr>\n",
       "    <tr>\n",
       "      <td>3</td>\n",
       "      <td>106.0</td>\n",
       "      <td>745.53</td>\n",
       "      <td>81.0</td>\n",
       "      <td>8437.39</td>\n",
       "      <td>1</td>\n",
       "    </tr>\n",
       "    <tr>\n",
       "      <td>4</td>\n",
       "      <td>66.0</td>\n",
       "      <td>418.74</td>\n",
       "      <td>1.0</td>\n",
       "      <td>14502.75</td>\n",
       "      <td>0</td>\n",
       "    </tr>\n",
       "  </tbody>\n",
       "</table>\n",
       "</div>"
      ],
      "text/plain": [
       "   calls  minutes  messages   mb_used  is_ultra\n",
       "0   40.0   311.90      83.0  19915.42         0\n",
       "1   85.0   516.75      56.0  22696.96         0\n",
       "2   77.0   467.66      86.0  21060.45         0\n",
       "3  106.0   745.53      81.0   8437.39         1\n",
       "4   66.0   418.74       1.0  14502.75         0"
      ]
     },
     "execution_count": 3,
     "metadata": {},
     "output_type": "execute_result"
    }
   ],
   "source": [
    "# выведем первые 5 объектов\n",
    "data.head()"
   ]
  },
  {
   "cell_type": "code",
   "execution_count": 4,
   "metadata": {},
   "outputs": [
    {
     "name": "stdout",
     "output_type": "stream",
     "text": [
      "<class 'pandas.core.frame.DataFrame'>\n",
      "RangeIndex: 3214 entries, 0 to 3213\n",
      "Data columns (total 5 columns):\n",
      "calls       3214 non-null float64\n",
      "minutes     3214 non-null float64\n",
      "messages    3214 non-null float64\n",
      "mb_used     3214 non-null float64\n",
      "is_ultra    3214 non-null int64\n",
      "dtypes: float64(4), int64(1)\n",
      "memory usage: 125.7 KB\n"
     ]
    }
   ],
   "source": [
    "# посмотрим общую информацию по данным\n",
    "data.info()"
   ]
  },
  {
   "cell_type": "markdown",
   "metadata": {},
   "source": [
    "### Вывод:"
   ]
  },
  {
   "cell_type": "markdown",
   "metadata": {},
   "source": [
    "1. Исходные данные состоят из 3214 объектов с 5 признаками.\n",
    "2. Предобработка данных не требуется."
   ]
  },
  {
   "cell_type": "markdown",
   "metadata": {},
   "source": [
    "## 2. Разбейте данные на выборки"
   ]
  },
  {
   "cell_type": "markdown",
   "metadata": {},
   "source": [
    "Разделим данные на обучающую, тестовую и валидационную выборки. Выберем следующие пропорции выборок (3-1-1):\n",
    "- 60% - обучающий набор;\n",
    "- 20% - валидационная выборка;\n",
    "- 20% - тестовая выборка."
   ]
  },
  {
   "cell_type": "code",
   "execution_count": 5,
   "metadata": {},
   "outputs": [],
   "source": [
    "# поделим данные на обучающий набор и тестовую+валидационную выборку, задав состояние random_state\n",
    "data_train, data_testval = train_test_split(data, test_size=0.4, random_state=random_st)"
   ]
  },
  {
   "cell_type": "code",
   "execution_count": 6,
   "metadata": {},
   "outputs": [],
   "source": [
    "# поделим тестовую+валидационную выборку на отдельные тестовые и валидационную выборку\n",
    "data_test, data_valid = train_test_split(data_testval, test_size=0.5, random_state=random_st)"
   ]
  },
  {
   "cell_type": "markdown",
   "metadata": {},
   "source": [
    "Проверим себя, посмотрим на размерность получившихся датафреймов:"
   ]
  },
  {
   "cell_type": "code",
   "execution_count": 7,
   "metadata": {},
   "outputs": [
    {
     "name": "stdout",
     "output_type": "stream",
     "text": [
      "Данные для тренеровки модели имеют размерность => (1928, 5) и составляют 60.0% от исходных данных\n",
      "Данные для тестирования модели имеют размерность => (643, 5) и составляют 20.0% от исходных данных\n",
      "Данные для настройки и проверки модели имеют размерность => (643, 5) и составляют 20.0% от исходных данных\n"
     ]
    }
   ],
   "source": [
    "for i in ((data_train, 'Данные для тренеровки модели'), \n",
    "          (data_test, 'Данные для тестирования модели'), \n",
    "          (data_valid, 'Данные для настройки и проверки модели')):\n",
    "    print('{} имеют размерность => {} и составляют {:.1%} от исходных данных'.format(i[1], \n",
    "                                                                                 i[0].shape, \n",
    "                                                                                 (i[0].shape[0]/data.shape[0])))"
   ]
  },
  {
   "cell_type": "markdown",
   "metadata": {},
   "source": [
    "### Вывод:\n"
   ]
  },
  {
   "cell_type": "markdown",
   "metadata": {},
   "source": [
    "Данные разделены на обучающую, тестовую и валидационную выборки в следующей пропорции - 60%-20%-20%"
   ]
  },
  {
   "cell_type": "markdown",
   "metadata": {},
   "source": [
    "## 3. Исследуйте модели"
   ]
  },
  {
   "cell_type": "markdown",
   "metadata": {},
   "source": [
    "Для обучения моделей классификации используем три популярных алгоритма, сравним их и выберем тот, который более всего подходит по параметру accuracy."
   ]
  },
  {
   "cell_type": "markdown",
   "metadata": {},
   "source": [
    "Для начала выделим из ранее сделанных выборок датафрейм с признаками и целевой признак:"
   ]
  },
  {
   "cell_type": "code",
   "execution_count": 8,
   "metadata": {},
   "outputs": [],
   "source": [
    "# определим функцию, которая будет возвращать объекты целевого признака и остальных признаков\n",
    "def get_features(data):\n",
    "    features = data.drop(['is_ultra'], axis=1)\n",
    "    target = data['is_ultra']\n",
    "    return (features, target)"
   ]
  },
  {
   "cell_type": "code",
   "execution_count": 9,
   "metadata": {},
   "outputs": [],
   "source": [
    "# данные для тренеровки\n",
    "features_train, target_train = get_features(data_train)\n",
    "\n",
    "# данные для проверки модели\n",
    "features_valid, target_valid = get_features(data_valid)\n",
    "\n",
    "# даные для тестирования модели\n",
    "features_test, target_test = get_features(data_test)"
   ]
  },
  {
   "cell_type": "markdown",
   "metadata": {},
   "source": [
    "Данные готовы для обучения и проверок моделей! Выберем алгоритмы обучения моделей:\n",
    "- DecisionTreeClassifier;\n",
    "- RandomForestClassifier;\n",
    "- LogisticRegression."
   ]
  },
  {
   "cell_type": "markdown",
   "metadata": {},
   "source": [
    "Запишем алгоритмы классификации в соответствующие переменные, установим некоторые первоначальные параметры и обучим модели:"
   ]
  },
  {
   "cell_type": "code",
   "execution_count": 10,
   "metadata": {},
   "outputs": [],
   "source": [
    "# для дерева решений выберем в первом приближении максимальную глубину дерева = 3 (количество переходов между узлами для принятия решения)\n",
    "model_dtc = DecisionTreeClassifier(max_depth=3, random_state=random_st)\n",
    "\n",
    "# для случайного леса выберем количество деревьев в лесе = 2 и максимальную глубину дерева = 3\n",
    "model_rfc = RandomForestClassifier(n_estimators=2, max_depth=3, random_state=random_st)\n",
    "\n",
    "# для модели логистической регрессии не будем определять никаких гиперпараметров\n",
    "model_lr = LogisticRegression(random_state=random_st)"
   ]
  },
  {
   "cell_type": "markdown",
   "metadata": {},
   "source": [
    "Обучим сразу все модели на данных для обучения:"
   ]
  },
  {
   "cell_type": "code",
   "execution_count": 11,
   "metadata": {},
   "outputs": [
    {
     "name": "stderr",
     "output_type": "stream",
     "text": [
      "/opt/conda/lib/python3.7/site-packages/sklearn/linear_model/logistic.py:432: FutureWarning: Default solver will be changed to 'lbfgs' in 0.22. Specify a solver to silence this warning.\n",
      "  FutureWarning)\n"
     ]
    }
   ],
   "source": [
    "for model in (model_dtc, model_rfc, model_lr):\n",
    "    model.fit(features_train, target_train)"
   ]
  },
  {
   "cell_type": "markdown",
   "metadata": {},
   "source": [
    "Модели обучены. Нужно оценить, насколько точны предсказания каждой из них:"
   ]
  },
  {
   "cell_type": "code",
   "execution_count": 12,
   "metadata": {},
   "outputs": [
    {
     "name": "stdout",
     "output_type": "stream",
     "text": [
      "Качество модели (accuracy) равна 79.7%\n",
      "Качество модели (accuracy) равна 77.6%\n",
      "Качество модели (accuracy) равна 71.4%\n"
     ]
    }
   ],
   "source": [
    "for model in (model_dtc, model_rfc, model_lr):\n",
    "    print('Качество модели (accuracy) равно {:.1%}'.format(model.score(features_train, target_train)))"
   ]
  },
  {
   "cell_type": "markdown",
   "metadata": {},
   "source": [
    "Чем выше качество модели, тем лучше. В первом приближении лучше дерево решений. Попробуем сделать предсказание на валидационной выборке и оценить качество полученных результатов:"
   ]
  },
  {
   "cell_type": "code",
   "execution_count": 13,
   "metadata": {},
   "outputs": [],
   "source": [
    "# определим функцию для автоматизации предсказаний и вычисления качества этих предсказаний\n",
    "def get_accuracy(model, features=features_valid, target=target_valid):\n",
    "    predictions = model.predict(features)\n",
    "    return accuracy_score(target, predictions)"
   ]
  },
  {
   "cell_type": "code",
   "execution_count": 14,
   "metadata": {},
   "outputs": [
    {
     "name": "stdout",
     "output_type": "stream",
     "text": [
      "Качество предсказаний модели DecisionTreeClassifier => 80.56%\n",
      "Качество предсказаний модели RandomForestClassifier => 76.98%\n",
      "Качество предсказаний модели LogisticRegression => 70.92%\n"
     ]
    }
   ],
   "source": [
    "# вычислим точность предсказаний каждой модели\n",
    "accuracy_dtc = get_accuracy(model_dtc)\n",
    "accuracy_rfc = get_accuracy(model_rfc)\n",
    "accuracy_lr = get_accuracy(model_lr)\n",
    "\n",
    "def print_accuracy(ac1, ac2, ac3):\n",
    "    for accuracy in ((ac1, 'DecisionTreeClassifier'), \n",
    "                     (ac2, 'RandomForestClassifier'), \n",
    "                     (ac3, 'LogisticRegression')):\n",
    "        print('Качество предсказаний модели {} => {:.2%}'.format(accuracy[1], accuracy[0]))\n",
    "        \n",
    "print_accuracy(accuracy_dtc, accuracy_rfc, accuracy_lr)"
   ]
  },
  {
   "cell_type": "markdown",
   "metadata": {},
   "source": [
    "Качество на валидационной выборке удовлетворяет для первых двух алгоритмов, но посмотрим, нельзя ли их еще улучшить."
   ]
  },
  {
   "cell_type": "markdown",
   "metadata": {},
   "source": [
    "#### 3.1 Улучшение модели случайного леса"
   ]
  },
  {
   "cell_type": "markdown",
   "metadata": {},
   "source": [
    "Можно попробовать улучшить модель случайного леса методом подбора гиперпараметров. Попробуем увеличить количество деревьев и оценить изменения в качестве модели."
   ]
  },
  {
   "cell_type": "code",
   "execution_count": 15,
   "metadata": {},
   "outputs": [
    {
     "name": "stdout",
     "output_type": "stream",
     "text": [
      "Качество предсказаний случайного леса с количеством деревьев = 1 => 75.12%\n",
      "Качество предсказаний случайного леса с количеством деревьев = 2 => 76.98%\n",
      "Качество предсказаний случайного леса с количеством деревьев = 3 => 81.65%\n",
      "Качество предсказаний случайного леса с количеством деревьев = 4 => 79.78%\n",
      "Качество предсказаний случайного леса с количеством деревьев = 5 => 79.94%\n",
      "Качество предсказаний случайного леса с количеством деревьев = 6 => 79.63%\n",
      "Качество предсказаний случайного леса с количеством деревьев = 7 => 80.72%\n",
      "Качество предсказаний случайного леса с количеством деревьев = 8 => 79.63%\n",
      "Качество предсказаний случайного леса с количеством деревьев = 9 => 80.56%\n",
      "Качество предсказаний случайного леса с количеством деревьев = 10 => 80.87%\n",
      "Качество предсказаний случайного леса с количеством деревьев = 11 => 81.03%\n",
      "Качество предсказаний случайного леса с количеством деревьев = 12 => 80.56%\n",
      "Качество предсказаний случайного леса с количеством деревьев = 13 => 80.72%\n",
      "Качество предсказаний случайного леса с количеством деревьев = 14 => 81.18%\n",
      "Качество предсказаний случайного леса с количеством деревьев = 15 => 81.18%\n",
      "Качество предсказаний случайного леса с количеством деревьев = 16 => 81.03%\n",
      "Качество предсказаний случайного леса с количеством деревьев = 17 => 80.87%\n",
      "Качество предсказаний случайного леса с количеством деревьев = 18 => 81.03%\n",
      "Качество предсказаний случайного леса с количеством деревьев = 19 => 81.34%\n"
     ]
    }
   ],
   "source": [
    "for n_estim in range(1, 20):\n",
    "    model_rfc_new = RandomForestClassifier(n_estimators=n_estim, max_depth=3, random_state=random_st)\n",
    "    model_rfc_new.fit(features_train, target_train)\n",
    "    predictions_valid = model_rfc_new.predict(features_valid)\n",
    "    accuracy_valid = accuracy_score(target_valid, predictions_valid)\n",
    "    print('Качество предсказаний случайного леса с количеством деревьев = {} => {:.2%}'.format(n_estim, accuracy_valid))"
   ]
  },
  {
   "cell_type": "markdown",
   "metadata": {},
   "source": [
    "Из расчета видно, что качество модели с количеством деревьев = 3 лучше, чем при 2 на 5% и лучше дерева решений на 1%. Попробуем подкрутить глубину max_depth."
   ]
  },
  {
   "cell_type": "code",
   "execution_count": 16,
   "metadata": {},
   "outputs": [
    {
     "name": "stdout",
     "output_type": "stream",
     "text": [
      "Качество предсказаний случайного леса с глубиной = 3 => 81.65%\n",
      "Качество предсказаний случайного леса с глубиной = 4 => 80.25%\n",
      "Качество предсказаний случайного леса с глубиной = 5 => 81.80%\n",
      "Качество предсказаний случайного леса с глубиной = 6 => 81.34%\n",
      "Качество предсказаний случайного леса с глубиной = 7 => 81.18%\n",
      "Качество предсказаний случайного леса с глубиной = 8 => 79.47%\n",
      "Качество предсказаний случайного леса с глубиной = 9 => 79.94%\n",
      "Качество предсказаний случайного леса с глубиной = 10 => 80.40%\n",
      "Качество предсказаний случайного леса с глубиной = 11 => 79.78%\n",
      "Качество предсказаний случайного леса с глубиной = 12 => 78.07%\n",
      "Качество предсказаний случайного леса с глубиной = 13 => 78.69%\n",
      "Качество предсказаний случайного леса с глубиной = 14 => 81.03%\n",
      "Качество предсказаний случайного леса с глубиной = 15 => 78.69%\n",
      "Качество предсказаний случайного леса с глубиной = 16 => 78.38%\n",
      "Качество предсказаний случайного леса с глубиной = 17 => 79.94%\n",
      "Качество предсказаний случайного леса с глубиной = 18 => 77.45%\n",
      "Качество предсказаний случайного леса с глубиной = 19 => 78.54%\n"
     ]
    }
   ],
   "source": [
    "for depth in range(3, 20):\n",
    "    model_rfc_new = RandomForestClassifier(n_estimators=3, max_depth=depth, random_state=random_st)\n",
    "    model_rfc_new.fit(features_train, target_train)\n",
    "    predictions_valid = model_rfc_new.predict(features_valid)\n",
    "    accuracy_valid = accuracy_score(target_valid, predictions_valid)\n",
    "    print('Качество предсказаний случайного леса с глубиной = {} => {:.2%}'.format(depth, accuracy_valid))"
   ]
  },
  {
   "cell_type": "markdown",
   "metadata": {},
   "source": [
    "При глубине дерева 5 модель немного улучшается (81.8%). Выберем параметры для предсказаний на тестовой выборке - n_estims=3 и max_depth=5."
   ]
  },
  {
   "cell_type": "code",
   "execution_count": 17,
   "metadata": {},
   "outputs": [],
   "source": [
    "model_rfc = RandomForestClassifier(n_estimators=3, max_depth=5, random_state=random_st)\n",
    "\n",
    "# обучим модель\n",
    "model_rfc.fit(features_train, target_train);"
   ]
  },
  {
   "cell_type": "markdown",
   "metadata": {},
   "source": [
    "#### 3.2 Улучшение модели дерева решений"
   ]
  },
  {
   "cell_type": "markdown",
   "metadata": {},
   "source": [
    "Попробуем улучшить модель дерева решений, изменив гиперпараметр max_depth."
   ]
  },
  {
   "cell_type": "code",
   "execution_count": 18,
   "metadata": {},
   "outputs": [
    {
     "name": "stdout",
     "output_type": "stream",
     "text": [
      "Качество предсказаний дерева решений с глубиной = 1 => 74.34%\n",
      "Качество предсказаний дерева решений с глубиной = 2 => 79.16%\n",
      "Качество предсказаний дерева решений с глубиной = 3 => 80.56%\n",
      "Качество предсказаний дерева решений с глубиной = 4 => 81.18%\n",
      "Качество предсказаний дерева решений с глубиной = 5 => 80.72%\n",
      "Качество предсказаний дерева решений с глубиной = 6 => 80.09%\n",
      "Качество предсказаний дерева решений с глубиной = 7 => 79.78%\n",
      "Качество предсказаний дерева решений с глубиной = 8 => 79.78%\n",
      "Качество предсказаний дерева решений с глубиной = 9 => 79.63%\n"
     ]
    }
   ],
   "source": [
    "for depth in range(1, 10):\n",
    "    model_dtc_new = DecisionTreeClassifier(max_depth=depth, random_state=random_st)\n",
    "    model_dtc_new.fit(features_train, target_train)\n",
    "    predictions_valid = model_dtc_new.predict(features_valid)\n",
    "    accuracy_valid = accuracy_score(target_valid, predictions_valid)\n",
    "    print('Качество предсказаний дерева решений с глубиной = {} => {:.2%}'.format(depth, accuracy_valid))"
   ]
  },
  {
   "cell_type": "markdown",
   "metadata": {},
   "source": [
    "При глубине дерева = 4 качество модели улучшается на чуть менее 1%. Переобучим модель дерева решений с другой глубиной:"
   ]
  },
  {
   "cell_type": "code",
   "execution_count": 19,
   "metadata": {},
   "outputs": [],
   "source": [
    "model_dtc = DecisionTreeClassifier(max_depth=4, random_state=random_st)\n",
    "\n",
    "#обучим модель\n",
    "model_dtc.fit(features_train, target_train);"
   ]
  },
  {
   "cell_type": "markdown",
   "metadata": {},
   "source": [
    "#### 3.3 Улучшение модели логистической регрессии"
   ]
  },
  {
   "cell_type": "markdown",
   "metadata": {},
   "source": [
    "Для улучшения предсказаний модели логистической регрессии изменим алгоритм оптимизации."
   ]
  },
  {
   "cell_type": "code",
   "execution_count": 20,
   "metadata": {},
   "outputs": [
    {
     "name": "stdout",
     "output_type": "stream",
     "text": [
      "Качество предсказаний модели логистической регрессии с алгоритмом оптимизации newton-cg => 76.83%\n",
      "Качество предсказаний модели логистической регрессии с алгоритмом оптимизации liblinear => 70.92%\n",
      "Качество предсказаний модели логистической регрессии с алгоритмом оптимизации sag => 69.98%\n",
      "Качество предсказаний модели логистической регрессии с алгоритмом оптимизации saga => 69.67%\n"
     ]
    },
    {
     "name": "stderr",
     "output_type": "stream",
     "text": [
      "/opt/conda/lib/python3.7/site-packages/scipy/optimize/linesearch.py:426: LineSearchWarning: Rounding errors prevent the line search from converging\n",
      "  warn(msg, LineSearchWarning)\n",
      "/opt/conda/lib/python3.7/site-packages/scipy/optimize/linesearch.py:314: LineSearchWarning: The line search algorithm did not converge\n",
      "  warn('The line search algorithm did not converge', LineSearchWarning)\n",
      "/opt/conda/lib/python3.7/site-packages/sklearn/utils/optimize.py:195: UserWarning: Line Search failed\n",
      "  warnings.warn('Line Search failed')\n",
      "/opt/conda/lib/python3.7/site-packages/sklearn/linear_model/sag.py:337: ConvergenceWarning: The max_iter was reached which means the coef_ did not converge\n",
      "  \"the coef_ did not converge\", ConvergenceWarning)\n",
      "/opt/conda/lib/python3.7/site-packages/sklearn/linear_model/sag.py:337: ConvergenceWarning: The max_iter was reached which means the coef_ did not converge\n",
      "  \"the coef_ did not converge\", ConvergenceWarning)\n"
     ]
    }
   ],
   "source": [
    "for alg in ('newton-cg', 'liblinear', 'sag', 'saga'):\n",
    "    model_lr_new = LogisticRegression(random_state=random_st, solver=alg)\n",
    "    model_lr_new.fit(features_train, target_train)\n",
    "    predictions_valid = model_lr_new.predict(features_valid)\n",
    "    accuracy_valid = accuracy_score(target_valid, predictions_valid)\n",
    "    print('Качество предсказаний модели логистической регрессии с алгоритмом оптимизации {} => {:.2%}'.format(alg, accuracy_valid))"
   ]
  },
  {
   "cell_type": "markdown",
   "metadata": {},
   "source": [
    "Качество предсказаний модели, использующей алгоритм логистической регрессии с алгоритмом оптимизации 'newton-cg', выше на 5%, чем со стандартным алгоритмом(‘lbfgs’). Переобучим модель с новым гиперпараметром:"
   ]
  },
  {
   "cell_type": "code",
   "execution_count": 21,
   "metadata": {},
   "outputs": [
    {
     "name": "stderr",
     "output_type": "stream",
     "text": [
      "/opt/conda/lib/python3.7/site-packages/scipy/optimize/linesearch.py:426: LineSearchWarning: Rounding errors prevent the line search from converging\n",
      "  warn(msg, LineSearchWarning)\n",
      "/opt/conda/lib/python3.7/site-packages/scipy/optimize/linesearch.py:314: LineSearchWarning: The line search algorithm did not converge\n",
      "  warn('The line search algorithm did not converge', LineSearchWarning)\n",
      "/opt/conda/lib/python3.7/site-packages/sklearn/utils/optimize.py:195: UserWarning: Line Search failed\n",
      "  warnings.warn('Line Search failed')\n"
     ]
    }
   ],
   "source": [
    "model_lr = LogisticRegression(random_state=random_st, solver='newton-cg')\n",
    "\n",
    "#обучим модель\n",
    "model_lr.fit(features_train, target_train);"
   ]
  },
  {
   "cell_type": "markdown",
   "metadata": {},
   "source": [
    "### Вывод:"
   ]
  },
  {
   "cell_type": "markdown",
   "metadata": {},
   "source": [
    "1. На валидационной выборке качество моделей дерева решения и случайного леса удовлетворяют условиям задания - не менее 75% (но не известно, удовлетворяют ли на тестовой выборке)\n",
    "2. После настройки гиперпараметров и проверки качества предсказаний на валидационной выборке все три модели показывают лучшее качество, а именно accuracy равно:\n",
    "  - для DecisionTreeClassifier(max_depth=4, random_state=random_st) 81.18%;\n",
    "  - для RandomForestClassifier(n_estimators=3, max_depth=5, random_state=random_st) 81.8%;\n",
    "  - для LogisticRegression(random_state=random_st, solver='newton-cg') 76.83%."
   ]
  },
  {
   "cell_type": "markdown",
   "metadata": {},
   "source": [
    "## 4. Проверьте модель на тестовой выборке"
   ]
  },
  {
   "cell_type": "markdown",
   "metadata": {},
   "source": [
    "Сделаем предсказания на тестовой выборке и получим значение качества этих предсказаний:"
   ]
  },
  {
   "cell_type": "code",
   "execution_count": 22,
   "metadata": {},
   "outputs": [],
   "source": [
    "accuracy_dtc_test = get_accuracy(model_dtc, features_test, target_test)\n",
    "accuracy_rfc_test = get_accuracy(model_rfc, features_test, target_test)\n",
    "accuracy_lr_test = get_accuracy(model_lr, features_test, target_test)"
   ]
  },
  {
   "cell_type": "code",
   "execution_count": 23,
   "metadata": {},
   "outputs": [
    {
     "name": "stdout",
     "output_type": "stream",
     "text": [
      "Качество предсказаний модели DecisionTreeClassifier => 78.07%\n",
      "Качество предсказаний модели RandomForestClassifier => 78.85%\n",
      "Качество предсказаний модели LogisticRegression => 74.03%\n"
     ]
    }
   ],
   "source": [
    "print_accuracy(accuracy_dtc_test, accuracy_rfc_test, accuracy_lr_test)"
   ]
  },
  {
   "cell_type": "markdown",
   "metadata": {},
   "source": [
    "### Вывод:"
   ]
  },
  {
   "cell_type": "markdown",
   "metadata": {},
   "source": [
    "1. Качество предсказаний на тестовой выборке для дерева решений и случайного леса чуть хуже, чем на валидационной, но, тем не менее, удовлетворяет поставленной задаче и не менее 75%.\n",
    "2. Модель логистической регрессии не подходит для решения поставленной задачи, либо требуется дальнейшая настройка гиперпараметров."
   ]
  },
  {
   "cell_type": "markdown",
   "metadata": {},
   "source": [
    "## 5. (бонус) Проверьте модели на адекватность"
   ]
  },
  {
   "cell_type": "markdown",
   "metadata": {},
   "source": [
    "Для того, чтобы оценить адекватность модели нужно сравнить качество предсказаний выбранной модели с качеством модели, которая предсказывает лишь один класс. Предположим, 0 для тарифа. Напишем свой классификатор и проверим его качество предсказаний по сравнению с выбранными моделями."
   ]
  },
  {
   "cell_type": "code",
   "execution_count": 24,
   "metadata": {},
   "outputs": [],
   "source": [
    "from sklearn.base import BaseEstimator # импортируем класс базовой оценки"
   ]
  },
  {
   "cell_type": "markdown",
   "metadata": {},
   "source": [
    "Cоздадим класс с методами fit и predict, который будет предсказывать только 0. При тренеровке модели не будет ничего происходить, а метод predict вернет нулевую матрицу."
   ]
  },
  {
   "cell_type": "code",
   "execution_count": 32,
   "metadata": {},
   "outputs": [],
   "source": [
    "class Not1Classifier(BaseEstimator):   # наследуем внутреннюю реализацию классификатора от BaseEstimator\n",
    "    \n",
    "    def fit(self, features, target):\n",
    "        pass\n",
    "    \n",
    "    def predict(self, features):\n",
    "        return np.zeros([len(features), 1])"
   ]
  },
  {
   "cell_type": "markdown",
   "metadata": {},
   "source": [
    "Обучим модель классификатора:"
   ]
  },
  {
   "cell_type": "code",
   "execution_count": 33,
   "metadata": {},
   "outputs": [],
   "source": [
    "model_not1 = Not1Classifier() # создадим объект классификатора\n",
    "model_not1.fit(features_train, target_train)  # тренеруем модель на тренеровочных данных"
   ]
  },
  {
   "cell_type": "code",
   "execution_count": 34,
   "metadata": {},
   "outputs": [
    {
     "name": "stdout",
     "output_type": "stream",
     "text": [
      "Качество предсказаний модели классификатора, предсказывающей только нули для тарифа => 69.36%\n"
     ]
    }
   ],
   "source": [
    "# посмотрим на accuracy предсказаний такой модели\n",
    "accuracy_not1 = get_accuracy(model_not1, features_test, target_test)\n",
    "print('Качество предсказаний модели классификатора, предсказывающей только нули для тарифа => {:.2%}'.format(accuracy_not1))"
   ]
  },
  {
   "cell_type": "markdown",
   "metadata": {},
   "source": [
    "### Вывод:"
   ]
  },
  {
   "cell_type": "markdown",
   "metadata": {},
   "source": [
    "Как видно из реализации представленного классификатора, предсказывающего только нули, выбранные и обученные модели дают более точные предсказания (более точные на 5-9 %). Можно предположить, что наши модели адекватны в части предсказания тарифов, но разница при предсказании тарифа smart не так уж и велика (но всё относительно)."
   ]
  }
 ],
 "metadata": {
  "kernelspec": {
   "display_name": "Python 3",
   "language": "python",
   "name": "python3"
  },
  "language_info": {
   "codemirror_mode": {
    "name": "ipython",
    "version": 3
   },
   "file_extension": ".py",
   "mimetype": "text/x-python",
   "name": "python",
   "nbconvert_exporter": "python",
   "pygments_lexer": "ipython3",
   "version": "3.7.4"
  }
 },
 "nbformat": 4,
 "nbformat_minor": 2
}
